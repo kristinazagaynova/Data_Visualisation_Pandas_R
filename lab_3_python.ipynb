{
  "cells": [
    {
      "cell_type": "markdown",
      "source": [
        "# Информация о датасете"
      ],
      "metadata": {
        "id": "u-lZSEhoBbkA"
      }
    },
    {
      "cell_type": "code",
      "execution_count": null,
      "metadata": {
        "id": "CcJxcxijOsmh"
      },
      "outputs": [],
      "source": [
        "import warnings\n",
        "warnings.filterwarnings(\"ignore\")"
      ]
    },
    {
      "cell_type": "code",
      "execution_count": null,
      "metadata": {
        "id": "sZo0dkvdgorx"
      },
      "outputs": [],
      "source": [
        "import pandas as pd\n",
        "import numpy as np\n",
        "import matplotlib.pyplot as plt\n",
        "import seaborn as sns\n",
        "import plotly.express as px"
      ]
    },
    {
      "cell_type": "markdown",
      "source": [
        "Датасет: https://www.kaggle.com/datasets/fearsomejockey/olympics-dataset-2020-tokyo-dataset"
      ],
      "metadata": {
        "id": "s_YRcmXDNkZ_"
      }
    },
    {
      "cell_type": "markdown",
      "source": [
        "Данные о столбцах датасета:"
      ],
      "metadata": {
        "id": "4prMS79-RzdN"
      }
    },
    {
      "cell_type": "code",
      "source": [
        "inf_dop = pd.read_csv('/content/df_dop.csv')\n",
        "inf_dop"
      ],
      "metadata": {
        "colab": {
          "base_uri": "https://localhost:8080/",
          "height": 331
        },
        "id": "N5JqhqdBNkGU",
        "outputId": "31c0170e-ef4b-4834-d65c-4ffd26d6cc7e"
      },
      "execution_count": null,
      "outputs": [
        {
          "output_type": "execute_result",
          "data": {
            "text/plain": [
              "  Название столбцов                         Описание данных Тип данных  \\\n",
              "0              Name                          Имя спортсмена     object   \n",
              "1               Sex                                     Пол     object   \n",
              "2               Age                                 Возраст      float   \n",
              "3              Team  Страна, за которую выступает спортсмен     object   \n",
              "4             Games                Название олимпийских игр     object   \n",
              "5              Year                     Год олимпийских игр    integer   \n",
              "6            Season                                   Сезон     object   \n",
              "7             Sport                              Вид спорта     object   \n",
              "8             Medal                              Тип медали    integer   \n",
              "\n",
              "           Шкала  \n",
              "0    Номинальная  \n",
              "1    Номинальная  \n",
              "2  Относительная  \n",
              "3    Номинальная  \n",
              "4    Номинальная  \n",
              "5  Относительная  \n",
              "6    Номинальная  \n",
              "7    Номинальная  \n",
              "8    Номинальная  "
            ],
            "text/html": [
              "\n",
              "  <div id=\"df-c46272a0-ac95-46a0-aa8e-4acdeeb87334\">\n",
              "    <div class=\"colab-df-container\">\n",
              "      <div>\n",
              "<style scoped>\n",
              "    .dataframe tbody tr th:only-of-type {\n",
              "        vertical-align: middle;\n",
              "    }\n",
              "\n",
              "    .dataframe tbody tr th {\n",
              "        vertical-align: top;\n",
              "    }\n",
              "\n",
              "    .dataframe thead th {\n",
              "        text-align: right;\n",
              "    }\n",
              "</style>\n",
              "<table border=\"1\" class=\"dataframe\">\n",
              "  <thead>\n",
              "    <tr style=\"text-align: right;\">\n",
              "      <th></th>\n",
              "      <th>Название столбцов</th>\n",
              "      <th>Описание данных</th>\n",
              "      <th>Тип данных</th>\n",
              "      <th>Шкала</th>\n",
              "    </tr>\n",
              "  </thead>\n",
              "  <tbody>\n",
              "    <tr>\n",
              "      <th>0</th>\n",
              "      <td>Name</td>\n",
              "      <td>Имя спортсмена</td>\n",
              "      <td>object</td>\n",
              "      <td>Номинальная</td>\n",
              "    </tr>\n",
              "    <tr>\n",
              "      <th>1</th>\n",
              "      <td>Sex</td>\n",
              "      <td>Пол</td>\n",
              "      <td>object</td>\n",
              "      <td>Номинальная</td>\n",
              "    </tr>\n",
              "    <tr>\n",
              "      <th>2</th>\n",
              "      <td>Age</td>\n",
              "      <td>Возраст</td>\n",
              "      <td>float</td>\n",
              "      <td>Относительная</td>\n",
              "    </tr>\n",
              "    <tr>\n",
              "      <th>3</th>\n",
              "      <td>Team</td>\n",
              "      <td>Страна, за которую выступает спортсмен</td>\n",
              "      <td>object</td>\n",
              "      <td>Номинальная</td>\n",
              "    </tr>\n",
              "    <tr>\n",
              "      <th>4</th>\n",
              "      <td>Games</td>\n",
              "      <td>Название олимпийских игр</td>\n",
              "      <td>object</td>\n",
              "      <td>Номинальная</td>\n",
              "    </tr>\n",
              "    <tr>\n",
              "      <th>5</th>\n",
              "      <td>Year</td>\n",
              "      <td>Год олимпийских игр</td>\n",
              "      <td>integer</td>\n",
              "      <td>Относительная</td>\n",
              "    </tr>\n",
              "    <tr>\n",
              "      <th>6</th>\n",
              "      <td>Season</td>\n",
              "      <td>Сезон</td>\n",
              "      <td>object</td>\n",
              "      <td>Номинальная</td>\n",
              "    </tr>\n",
              "    <tr>\n",
              "      <th>7</th>\n",
              "      <td>Sport</td>\n",
              "      <td>Вид спорта</td>\n",
              "      <td>object</td>\n",
              "      <td>Номинальная</td>\n",
              "    </tr>\n",
              "    <tr>\n",
              "      <th>8</th>\n",
              "      <td>Medal</td>\n",
              "      <td>Тип медали</td>\n",
              "      <td>integer</td>\n",
              "      <td>Номинальная</td>\n",
              "    </tr>\n",
              "  </tbody>\n",
              "</table>\n",
              "</div>\n",
              "      <button class=\"colab-df-convert\" onclick=\"convertToInteractive('df-c46272a0-ac95-46a0-aa8e-4acdeeb87334')\"\n",
              "              title=\"Convert this dataframe to an interactive table.\"\n",
              "              style=\"display:none;\">\n",
              "        \n",
              "  <svg xmlns=\"http://www.w3.org/2000/svg\" height=\"24px\"viewBox=\"0 0 24 24\"\n",
              "       width=\"24px\">\n",
              "    <path d=\"M0 0h24v24H0V0z\" fill=\"none\"/>\n",
              "    <path d=\"M18.56 5.44l.94 2.06.94-2.06 2.06-.94-2.06-.94-.94-2.06-.94 2.06-2.06.94zm-11 1L8.5 8.5l.94-2.06 2.06-.94-2.06-.94L8.5 2.5l-.94 2.06-2.06.94zm10 10l.94 2.06.94-2.06 2.06-.94-2.06-.94-.94-2.06-.94 2.06-2.06.94z\"/><path d=\"M17.41 7.96l-1.37-1.37c-.4-.4-.92-.59-1.43-.59-.52 0-1.04.2-1.43.59L10.3 9.45l-7.72 7.72c-.78.78-.78 2.05 0 2.83L4 21.41c.39.39.9.59 1.41.59.51 0 1.02-.2 1.41-.59l7.78-7.78 2.81-2.81c.8-.78.8-2.07 0-2.86zM5.41 20L4 18.59l7.72-7.72 1.47 1.35L5.41 20z\"/>\n",
              "  </svg>\n",
              "      </button>\n",
              "      \n",
              "  <style>\n",
              "    .colab-df-container {\n",
              "      display:flex;\n",
              "      flex-wrap:wrap;\n",
              "      gap: 12px;\n",
              "    }\n",
              "\n",
              "    .colab-df-convert {\n",
              "      background-color: #E8F0FE;\n",
              "      border: none;\n",
              "      border-radius: 50%;\n",
              "      cursor: pointer;\n",
              "      display: none;\n",
              "      fill: #1967D2;\n",
              "      height: 32px;\n",
              "      padding: 0 0 0 0;\n",
              "      width: 32px;\n",
              "    }\n",
              "\n",
              "    .colab-df-convert:hover {\n",
              "      background-color: #E2EBFA;\n",
              "      box-shadow: 0px 1px 2px rgba(60, 64, 67, 0.3), 0px 1px 3px 1px rgba(60, 64, 67, 0.15);\n",
              "      fill: #174EA6;\n",
              "    }\n",
              "\n",
              "    [theme=dark] .colab-df-convert {\n",
              "      background-color: #3B4455;\n",
              "      fill: #D2E3FC;\n",
              "    }\n",
              "\n",
              "    [theme=dark] .colab-df-convert:hover {\n",
              "      background-color: #434B5C;\n",
              "      box-shadow: 0px 1px 3px 1px rgba(0, 0, 0, 0.15);\n",
              "      filter: drop-shadow(0px 1px 2px rgba(0, 0, 0, 0.3));\n",
              "      fill: #FFFFFF;\n",
              "    }\n",
              "  </style>\n",
              "\n",
              "      <script>\n",
              "        const buttonEl =\n",
              "          document.querySelector('#df-c46272a0-ac95-46a0-aa8e-4acdeeb87334 button.colab-df-convert');\n",
              "        buttonEl.style.display =\n",
              "          google.colab.kernel.accessAllowed ? 'block' : 'none';\n",
              "\n",
              "        async function convertToInteractive(key) {\n",
              "          const element = document.querySelector('#df-c46272a0-ac95-46a0-aa8e-4acdeeb87334');\n",
              "          const dataTable =\n",
              "            await google.colab.kernel.invokeFunction('convertToInteractive',\n",
              "                                                     [key], {});\n",
              "          if (!dataTable) return;\n",
              "\n",
              "          const docLinkHtml = 'Like what you see? Visit the ' +\n",
              "            '<a target=\"_blank\" href=https://colab.research.google.com/notebooks/data_table.ipynb>data table notebook</a>'\n",
              "            + ' to learn more about interactive tables.';\n",
              "          element.innerHTML = '';\n",
              "          dataTable['output_type'] = 'display_data';\n",
              "          await google.colab.output.renderOutput(dataTable, element);\n",
              "          const docLink = document.createElement('div');\n",
              "          docLink.innerHTML = docLinkHtml;\n",
              "          element.appendChild(docLink);\n",
              "        }\n",
              "      </script>\n",
              "    </div>\n",
              "  </div>\n",
              "  "
            ]
          },
          "metadata": {},
          "execution_count": 3
        }
      ]
    },
    {
      "cell_type": "markdown",
      "source": [
        "Датасет: https://www.kaggle.com/datasets/gauthamp10/google-playstore-apps"
      ],
      "metadata": {
        "id": "trombiYlDYe8"
      }
    },
    {
      "cell_type": "markdown",
      "source": [
        "Данные о столбцах датасета:"
      ],
      "metadata": {
        "id": "H4LpUEvqAavr"
      }
    },
    {
      "cell_type": "code",
      "source": [
        "inf = pd.read_csv('/content/df.csv')\n",
        "inf"
      ],
      "metadata": {
        "colab": {
          "base_uri": "https://localhost:8080/",
          "height": 801
        },
        "id": "5j5LMf96AgaJ",
        "outputId": "5f9932a7-4ed2-4627-aed7-3375bfba3ffe"
      },
      "execution_count": null,
      "outputs": [
        {
          "output_type": "execute_result",
          "data": {
            "text/plain": [
              "     Название столбца                                    Описание данных  \\\n",
              "0            App Name                                Название приложения   \n",
              "1              App Id                            Сайт данного приложения   \n",
              "2            Category                                 Название категории   \n",
              "3              Rating                       Рейтинг приложения от 0 до 5   \n",
              "4        Rating Count                                 Количество отзывов   \n",
              "5            Installs   Количество установок, отображаемое в Google Play   \n",
              "6    Minimum Installs   Количество установок, отображаемое в Google Play   \n",
              "7    Maximum Installs     Действительное количество установок приложений   \n",
              "8                Free       Показатель платное или бесплатное приложение   \n",
              "9               Price                                    Цена приложения   \n",
              "10           Currency                                             Валюта   \n",
              "11               Size                                  Размер приложения   \n",
              "12    Minimum Android          Минимальная поддерживаемая версия Android   \n",
              "13       Developer Id                                    Id разработчика   \n",
              "14  Developer Website                                  Сайт разработчика   \n",
              "15    Developer Email                                 Почта разработчика   \n",
              "16           Released                            Дата выпуска приложения   \n",
              "17       Last Updated                               Последнее обновление   \n",
              "18     Content Rating                             Возрастное ограничение   \n",
              "19     Privacy Policy                        Политика конфиденциальности   \n",
              "20       Ad Supported                     Поддержка реклама в приложении   \n",
              "21   In App Purchases                         Наличие встроенных покупок   \n",
              "22     Editors Choice  Показатель, в разделе \"Выбор редакции\" приложе...   \n",
              "23       Scraped Time                               Дата выгрузки данных   \n",
              "\n",
              "   Тип данных          Шкала  \n",
              "0      object    Номинальная  \n",
              "1      object    Номинальная  \n",
              "2      object    Номинальная  \n",
              "3       float   Интервальная  \n",
              "4       float   Интервальная  \n",
              "5      object  Относительная  \n",
              "6       float  Относительная  \n",
              "7         int  Относительная  \n",
              "8        bool    Номинальная  \n",
              "9       float  Относительная  \n",
              "10     object    Номинальная  \n",
              "11     object  Относительная  \n",
              "12     object   Интервальная  \n",
              "13     object    Номинальная  \n",
              "14     object    Номинальная  \n",
              "15     object    Номинальная  \n",
              "16     object  Относительная  \n",
              "17     object  Относительная  \n",
              "18     object     Порядковая  \n",
              "19     object    Номинальная  \n",
              "20       bool    Номинальная  \n",
              "21       bool    Номинальная  \n",
              "22       bool    Номинальная  \n",
              "23     object  Относительная  "
            ],
            "text/html": [
              "\n",
              "  <div id=\"df-27f2960d-3ed6-4576-a30d-3471a81d93a1\">\n",
              "    <div class=\"colab-df-container\">\n",
              "      <div>\n",
              "<style scoped>\n",
              "    .dataframe tbody tr th:only-of-type {\n",
              "        vertical-align: middle;\n",
              "    }\n",
              "\n",
              "    .dataframe tbody tr th {\n",
              "        vertical-align: top;\n",
              "    }\n",
              "\n",
              "    .dataframe thead th {\n",
              "        text-align: right;\n",
              "    }\n",
              "</style>\n",
              "<table border=\"1\" class=\"dataframe\">\n",
              "  <thead>\n",
              "    <tr style=\"text-align: right;\">\n",
              "      <th></th>\n",
              "      <th>Название столбца</th>\n",
              "      <th>Описание данных</th>\n",
              "      <th>Тип данных</th>\n",
              "      <th>Шкала</th>\n",
              "    </tr>\n",
              "  </thead>\n",
              "  <tbody>\n",
              "    <tr>\n",
              "      <th>0</th>\n",
              "      <td>App Name</td>\n",
              "      <td>Название приложения</td>\n",
              "      <td>object</td>\n",
              "      <td>Номинальная</td>\n",
              "    </tr>\n",
              "    <tr>\n",
              "      <th>1</th>\n",
              "      <td>App Id</td>\n",
              "      <td>Сайт данного приложения</td>\n",
              "      <td>object</td>\n",
              "      <td>Номинальная</td>\n",
              "    </tr>\n",
              "    <tr>\n",
              "      <th>2</th>\n",
              "      <td>Category</td>\n",
              "      <td>Название категории</td>\n",
              "      <td>object</td>\n",
              "      <td>Номинальная</td>\n",
              "    </tr>\n",
              "    <tr>\n",
              "      <th>3</th>\n",
              "      <td>Rating</td>\n",
              "      <td>Рейтинг приложения от 0 до 5</td>\n",
              "      <td>float</td>\n",
              "      <td>Интервальная</td>\n",
              "    </tr>\n",
              "    <tr>\n",
              "      <th>4</th>\n",
              "      <td>Rating Count</td>\n",
              "      <td>Количество отзывов</td>\n",
              "      <td>float</td>\n",
              "      <td>Интервальная</td>\n",
              "    </tr>\n",
              "    <tr>\n",
              "      <th>5</th>\n",
              "      <td>Installs</td>\n",
              "      <td>Количество установок, отображаемое в Google Play</td>\n",
              "      <td>object</td>\n",
              "      <td>Относительная</td>\n",
              "    </tr>\n",
              "    <tr>\n",
              "      <th>6</th>\n",
              "      <td>Minimum Installs</td>\n",
              "      <td>Количество установок, отображаемое в Google Play</td>\n",
              "      <td>float</td>\n",
              "      <td>Относительная</td>\n",
              "    </tr>\n",
              "    <tr>\n",
              "      <th>7</th>\n",
              "      <td>Maximum Installs</td>\n",
              "      <td>Действительное количество установок приложений</td>\n",
              "      <td>int</td>\n",
              "      <td>Относительная</td>\n",
              "    </tr>\n",
              "    <tr>\n",
              "      <th>8</th>\n",
              "      <td>Free</td>\n",
              "      <td>Показатель платное или бесплатное приложение</td>\n",
              "      <td>bool</td>\n",
              "      <td>Номинальная</td>\n",
              "    </tr>\n",
              "    <tr>\n",
              "      <th>9</th>\n",
              "      <td>Price</td>\n",
              "      <td>Цена приложения</td>\n",
              "      <td>float</td>\n",
              "      <td>Относительная</td>\n",
              "    </tr>\n",
              "    <tr>\n",
              "      <th>10</th>\n",
              "      <td>Currency</td>\n",
              "      <td>Валюта</td>\n",
              "      <td>object</td>\n",
              "      <td>Номинальная</td>\n",
              "    </tr>\n",
              "    <tr>\n",
              "      <th>11</th>\n",
              "      <td>Size</td>\n",
              "      <td>Размер приложения</td>\n",
              "      <td>object</td>\n",
              "      <td>Относительная</td>\n",
              "    </tr>\n",
              "    <tr>\n",
              "      <th>12</th>\n",
              "      <td>Minimum Android</td>\n",
              "      <td>Минимальная поддерживаемая версия Android</td>\n",
              "      <td>object</td>\n",
              "      <td>Интервальная</td>\n",
              "    </tr>\n",
              "    <tr>\n",
              "      <th>13</th>\n",
              "      <td>Developer Id</td>\n",
              "      <td>Id разработчика</td>\n",
              "      <td>object</td>\n",
              "      <td>Номинальная</td>\n",
              "    </tr>\n",
              "    <tr>\n",
              "      <th>14</th>\n",
              "      <td>Developer Website</td>\n",
              "      <td>Сайт разработчика</td>\n",
              "      <td>object</td>\n",
              "      <td>Номинальная</td>\n",
              "    </tr>\n",
              "    <tr>\n",
              "      <th>15</th>\n",
              "      <td>Developer Email</td>\n",
              "      <td>Почта разработчика</td>\n",
              "      <td>object</td>\n",
              "      <td>Номинальная</td>\n",
              "    </tr>\n",
              "    <tr>\n",
              "      <th>16</th>\n",
              "      <td>Released</td>\n",
              "      <td>Дата выпуска приложения</td>\n",
              "      <td>object</td>\n",
              "      <td>Относительная</td>\n",
              "    </tr>\n",
              "    <tr>\n",
              "      <th>17</th>\n",
              "      <td>Last Updated</td>\n",
              "      <td>Последнее обновление</td>\n",
              "      <td>object</td>\n",
              "      <td>Относительная</td>\n",
              "    </tr>\n",
              "    <tr>\n",
              "      <th>18</th>\n",
              "      <td>Content Rating</td>\n",
              "      <td>Возрастное ограничение</td>\n",
              "      <td>object</td>\n",
              "      <td>Порядковая</td>\n",
              "    </tr>\n",
              "    <tr>\n",
              "      <th>19</th>\n",
              "      <td>Privacy Policy</td>\n",
              "      <td>Политика конфиденциальности</td>\n",
              "      <td>object</td>\n",
              "      <td>Номинальная</td>\n",
              "    </tr>\n",
              "    <tr>\n",
              "      <th>20</th>\n",
              "      <td>Ad Supported</td>\n",
              "      <td>Поддержка реклама в приложении</td>\n",
              "      <td>bool</td>\n",
              "      <td>Номинальная</td>\n",
              "    </tr>\n",
              "    <tr>\n",
              "      <th>21</th>\n",
              "      <td>In App Purchases</td>\n",
              "      <td>Наличие встроенных покупок</td>\n",
              "      <td>bool</td>\n",
              "      <td>Номинальная</td>\n",
              "    </tr>\n",
              "    <tr>\n",
              "      <th>22</th>\n",
              "      <td>Editors Choice</td>\n",
              "      <td>Показатель, в разделе \"Выбор редакции\" приложе...</td>\n",
              "      <td>bool</td>\n",
              "      <td>Номинальная</td>\n",
              "    </tr>\n",
              "    <tr>\n",
              "      <th>23</th>\n",
              "      <td>Scraped Time</td>\n",
              "      <td>Дата выгрузки данных</td>\n",
              "      <td>object</td>\n",
              "      <td>Относительная</td>\n",
              "    </tr>\n",
              "  </tbody>\n",
              "</table>\n",
              "</div>\n",
              "      <button class=\"colab-df-convert\" onclick=\"convertToInteractive('df-27f2960d-3ed6-4576-a30d-3471a81d93a1')\"\n",
              "              title=\"Convert this dataframe to an interactive table.\"\n",
              "              style=\"display:none;\">\n",
              "        \n",
              "  <svg xmlns=\"http://www.w3.org/2000/svg\" height=\"24px\"viewBox=\"0 0 24 24\"\n",
              "       width=\"24px\">\n",
              "    <path d=\"M0 0h24v24H0V0z\" fill=\"none\"/>\n",
              "    <path d=\"M18.56 5.44l.94 2.06.94-2.06 2.06-.94-2.06-.94-.94-2.06-.94 2.06-2.06.94zm-11 1L8.5 8.5l.94-2.06 2.06-.94-2.06-.94L8.5 2.5l-.94 2.06-2.06.94zm10 10l.94 2.06.94-2.06 2.06-.94-2.06-.94-.94-2.06-.94 2.06-2.06.94z\"/><path d=\"M17.41 7.96l-1.37-1.37c-.4-.4-.92-.59-1.43-.59-.52 0-1.04.2-1.43.59L10.3 9.45l-7.72 7.72c-.78.78-.78 2.05 0 2.83L4 21.41c.39.39.9.59 1.41.59.51 0 1.02-.2 1.41-.59l7.78-7.78 2.81-2.81c.8-.78.8-2.07 0-2.86zM5.41 20L4 18.59l7.72-7.72 1.47 1.35L5.41 20z\"/>\n",
              "  </svg>\n",
              "      </button>\n",
              "      \n",
              "  <style>\n",
              "    .colab-df-container {\n",
              "      display:flex;\n",
              "      flex-wrap:wrap;\n",
              "      gap: 12px;\n",
              "    }\n",
              "\n",
              "    .colab-df-convert {\n",
              "      background-color: #E8F0FE;\n",
              "      border: none;\n",
              "      border-radius: 50%;\n",
              "      cursor: pointer;\n",
              "      display: none;\n",
              "      fill: #1967D2;\n",
              "      height: 32px;\n",
              "      padding: 0 0 0 0;\n",
              "      width: 32px;\n",
              "    }\n",
              "\n",
              "    .colab-df-convert:hover {\n",
              "      background-color: #E2EBFA;\n",
              "      box-shadow: 0px 1px 2px rgba(60, 64, 67, 0.3), 0px 1px 3px 1px rgba(60, 64, 67, 0.15);\n",
              "      fill: #174EA6;\n",
              "    }\n",
              "\n",
              "    [theme=dark] .colab-df-convert {\n",
              "      background-color: #3B4455;\n",
              "      fill: #D2E3FC;\n",
              "    }\n",
              "\n",
              "    [theme=dark] .colab-df-convert:hover {\n",
              "      background-color: #434B5C;\n",
              "      box-shadow: 0px 1px 3px 1px rgba(0, 0, 0, 0.15);\n",
              "      filter: drop-shadow(0px 1px 2px rgba(0, 0, 0, 0.3));\n",
              "      fill: #FFFFFF;\n",
              "    }\n",
              "  </style>\n",
              "\n",
              "      <script>\n",
              "        const buttonEl =\n",
              "          document.querySelector('#df-27f2960d-3ed6-4576-a30d-3471a81d93a1 button.colab-df-convert');\n",
              "        buttonEl.style.display =\n",
              "          google.colab.kernel.accessAllowed ? 'block' : 'none';\n",
              "\n",
              "        async function convertToInteractive(key) {\n",
              "          const element = document.querySelector('#df-27f2960d-3ed6-4576-a30d-3471a81d93a1');\n",
              "          const dataTable =\n",
              "            await google.colab.kernel.invokeFunction('convertToInteractive',\n",
              "                                                     [key], {});\n",
              "          if (!dataTable) return;\n",
              "\n",
              "          const docLinkHtml = 'Like what you see? Visit the ' +\n",
              "            '<a target=\"_blank\" href=https://colab.research.google.com/notebooks/data_table.ipynb>data table notebook</a>'\n",
              "            + ' to learn more about interactive tables.';\n",
              "          element.innerHTML = '';\n",
              "          dataTable['output_type'] = 'display_data';\n",
              "          await google.colab.output.renderOutput(dataTable, element);\n",
              "          const docLink = document.createElement('div');\n",
              "          docLink.innerHTML = docLinkHtml;\n",
              "          element.appendChild(docLink);\n",
              "        }\n",
              "      </script>\n",
              "    </div>\n",
              "  </div>\n",
              "  "
            ]
          },
          "metadata": {},
          "execution_count": 43
        }
      ]
    },
    {
      "cell_type": "markdown",
      "metadata": {
        "id": "C8x9b5tUIwjW"
      },
      "source": [
        "# Предобработка данных\n"
      ]
    },
    {
      "cell_type": "code",
      "execution_count": null,
      "metadata": {
        "colab": {
          "base_uri": "https://localhost:8080/"
        },
        "id": "2Ivov8eLhOyg",
        "outputId": "92471464-df5e-4703-8dfb-c724e794b368"
      },
      "outputs": [
        {
          "output_type": "stream",
          "name": "stdout",
          "text": [
            "Mounted at /content/drive\n"
          ]
        }
      ],
      "source": [
        "from google.colab import drive\n",
        "drive.mount('/content/drive')"
      ]
    },
    {
      "cell_type": "code",
      "execution_count": null,
      "metadata": {
        "id": "Ut4BWhrNgr2q"
      },
      "outputs": [],
      "source": [
        "df = pd.read_csv('/content/drive/MyDrive/Google-Playstore.csv')"
      ]
    },
    {
      "cell_type": "markdown",
      "metadata": {
        "id": "DQTntu6JFDkG"
      },
      "source": [
        "Удалим \"ненужные\" столбцы, которые содержат либо дублирующую информацию (Installs), либо административные данные, не требующиеся для проверки наших гипотез (Developer Id)."
      ]
    },
    {
      "cell_type": "code",
      "execution_count": null,
      "metadata": {
        "id": "pYchJFJyJC53"
      },
      "outputs": [],
      "source": [
        "data = df.drop(columns=['App Id', 'Installs', 'Developer Id', 'Developer Website', 'Privacy Policy', 'Scraped Time'])"
      ]
    },
    {
      "cell_type": "code",
      "execution_count": null,
      "metadata": {
        "colab": {
          "base_uri": "https://localhost:8080/",
          "height": 614
        },
        "id": "WVbD8W3pk5_p",
        "outputId": "7fd46124-6f7a-4f14-d0cc-0bc1117ecaf9"
      },
      "outputs": [
        {
          "output_type": "execute_result",
          "data": {
            "text/plain": [
              "                  Count  Percentage\n",
              "App Name              2    0.000086\n",
              "Category              0    0.000000\n",
              "Rating            22883    0.989345\n",
              "Rating Count      22883    0.989345\n",
              "Minimum Installs    107    0.004626\n",
              "Maximum Installs      0    0.000000\n",
              "Free                  0    0.000000\n",
              "Price                 0    0.000000\n",
              "Currency            135    0.005837\n",
              "Size                196    0.008474\n",
              "Minimum Android    6530    0.282324\n",
              "Developer Email      31    0.001340\n",
              "Released          71053    3.071972\n",
              "Last Updated          0    0.000000\n",
              "Content Rating        0    0.000000\n",
              "Ad Supported          0    0.000000\n",
              "In App Purchases      0    0.000000\n",
              "Editors Choice        0    0.000000"
            ],
            "text/html": [
              "\n",
              "  <div id=\"df-9f02a2ba-3ece-4c78-9cea-3fabc93e4b8e\">\n",
              "    <div class=\"colab-df-container\">\n",
              "      <div>\n",
              "<style scoped>\n",
              "    .dataframe tbody tr th:only-of-type {\n",
              "        vertical-align: middle;\n",
              "    }\n",
              "\n",
              "    .dataframe tbody tr th {\n",
              "        vertical-align: top;\n",
              "    }\n",
              "\n",
              "    .dataframe thead th {\n",
              "        text-align: right;\n",
              "    }\n",
              "</style>\n",
              "<table border=\"1\" class=\"dataframe\">\n",
              "  <thead>\n",
              "    <tr style=\"text-align: right;\">\n",
              "      <th></th>\n",
              "      <th>Count</th>\n",
              "      <th>Percentage</th>\n",
              "    </tr>\n",
              "  </thead>\n",
              "  <tbody>\n",
              "    <tr>\n",
              "      <th>App Name</th>\n",
              "      <td>2</td>\n",
              "      <td>0.000086</td>\n",
              "    </tr>\n",
              "    <tr>\n",
              "      <th>Category</th>\n",
              "      <td>0</td>\n",
              "      <td>0.000000</td>\n",
              "    </tr>\n",
              "    <tr>\n",
              "      <th>Rating</th>\n",
              "      <td>22883</td>\n",
              "      <td>0.989345</td>\n",
              "    </tr>\n",
              "    <tr>\n",
              "      <th>Rating Count</th>\n",
              "      <td>22883</td>\n",
              "      <td>0.989345</td>\n",
              "    </tr>\n",
              "    <tr>\n",
              "      <th>Minimum Installs</th>\n",
              "      <td>107</td>\n",
              "      <td>0.004626</td>\n",
              "    </tr>\n",
              "    <tr>\n",
              "      <th>Maximum Installs</th>\n",
              "      <td>0</td>\n",
              "      <td>0.000000</td>\n",
              "    </tr>\n",
              "    <tr>\n",
              "      <th>Free</th>\n",
              "      <td>0</td>\n",
              "      <td>0.000000</td>\n",
              "    </tr>\n",
              "    <tr>\n",
              "      <th>Price</th>\n",
              "      <td>0</td>\n",
              "      <td>0.000000</td>\n",
              "    </tr>\n",
              "    <tr>\n",
              "      <th>Currency</th>\n",
              "      <td>135</td>\n",
              "      <td>0.005837</td>\n",
              "    </tr>\n",
              "    <tr>\n",
              "      <th>Size</th>\n",
              "      <td>196</td>\n",
              "      <td>0.008474</td>\n",
              "    </tr>\n",
              "    <tr>\n",
              "      <th>Minimum Android</th>\n",
              "      <td>6530</td>\n",
              "      <td>0.282324</td>\n",
              "    </tr>\n",
              "    <tr>\n",
              "      <th>Developer Email</th>\n",
              "      <td>31</td>\n",
              "      <td>0.001340</td>\n",
              "    </tr>\n",
              "    <tr>\n",
              "      <th>Released</th>\n",
              "      <td>71053</td>\n",
              "      <td>3.071972</td>\n",
              "    </tr>\n",
              "    <tr>\n",
              "      <th>Last Updated</th>\n",
              "      <td>0</td>\n",
              "      <td>0.000000</td>\n",
              "    </tr>\n",
              "    <tr>\n",
              "      <th>Content Rating</th>\n",
              "      <td>0</td>\n",
              "      <td>0.000000</td>\n",
              "    </tr>\n",
              "    <tr>\n",
              "      <th>Ad Supported</th>\n",
              "      <td>0</td>\n",
              "      <td>0.000000</td>\n",
              "    </tr>\n",
              "    <tr>\n",
              "      <th>In App Purchases</th>\n",
              "      <td>0</td>\n",
              "      <td>0.000000</td>\n",
              "    </tr>\n",
              "    <tr>\n",
              "      <th>Editors Choice</th>\n",
              "      <td>0</td>\n",
              "      <td>0.000000</td>\n",
              "    </tr>\n",
              "  </tbody>\n",
              "</table>\n",
              "</div>\n",
              "      <button class=\"colab-df-convert\" onclick=\"convertToInteractive('df-9f02a2ba-3ece-4c78-9cea-3fabc93e4b8e')\"\n",
              "              title=\"Convert this dataframe to an interactive table.\"\n",
              "              style=\"display:none;\">\n",
              "        \n",
              "  <svg xmlns=\"http://www.w3.org/2000/svg\" height=\"24px\"viewBox=\"0 0 24 24\"\n",
              "       width=\"24px\">\n",
              "    <path d=\"M0 0h24v24H0V0z\" fill=\"none\"/>\n",
              "    <path d=\"M18.56 5.44l.94 2.06.94-2.06 2.06-.94-2.06-.94-.94-2.06-.94 2.06-2.06.94zm-11 1L8.5 8.5l.94-2.06 2.06-.94-2.06-.94L8.5 2.5l-.94 2.06-2.06.94zm10 10l.94 2.06.94-2.06 2.06-.94-2.06-.94-.94-2.06-.94 2.06-2.06.94z\"/><path d=\"M17.41 7.96l-1.37-1.37c-.4-.4-.92-.59-1.43-.59-.52 0-1.04.2-1.43.59L10.3 9.45l-7.72 7.72c-.78.78-.78 2.05 0 2.83L4 21.41c.39.39.9.59 1.41.59.51 0 1.02-.2 1.41-.59l7.78-7.78 2.81-2.81c.8-.78.8-2.07 0-2.86zM5.41 20L4 18.59l7.72-7.72 1.47 1.35L5.41 20z\"/>\n",
              "  </svg>\n",
              "      </button>\n",
              "      \n",
              "  <style>\n",
              "    .colab-df-container {\n",
              "      display:flex;\n",
              "      flex-wrap:wrap;\n",
              "      gap: 12px;\n",
              "    }\n",
              "\n",
              "    .colab-df-convert {\n",
              "      background-color: #E8F0FE;\n",
              "      border: none;\n",
              "      border-radius: 50%;\n",
              "      cursor: pointer;\n",
              "      display: none;\n",
              "      fill: #1967D2;\n",
              "      height: 32px;\n",
              "      padding: 0 0 0 0;\n",
              "      width: 32px;\n",
              "    }\n",
              "\n",
              "    .colab-df-convert:hover {\n",
              "      background-color: #E2EBFA;\n",
              "      box-shadow: 0px 1px 2px rgba(60, 64, 67, 0.3), 0px 1px 3px 1px rgba(60, 64, 67, 0.15);\n",
              "      fill: #174EA6;\n",
              "    }\n",
              "\n",
              "    [theme=dark] .colab-df-convert {\n",
              "      background-color: #3B4455;\n",
              "      fill: #D2E3FC;\n",
              "    }\n",
              "\n",
              "    [theme=dark] .colab-df-convert:hover {\n",
              "      background-color: #434B5C;\n",
              "      box-shadow: 0px 1px 3px 1px rgba(0, 0, 0, 0.15);\n",
              "      filter: drop-shadow(0px 1px 2px rgba(0, 0, 0, 0.3));\n",
              "      fill: #FFFFFF;\n",
              "    }\n",
              "  </style>\n",
              "\n",
              "      <script>\n",
              "        const buttonEl =\n",
              "          document.querySelector('#df-9f02a2ba-3ece-4c78-9cea-3fabc93e4b8e button.colab-df-convert');\n",
              "        buttonEl.style.display =\n",
              "          google.colab.kernel.accessAllowed ? 'block' : 'none';\n",
              "\n",
              "        async function convertToInteractive(key) {\n",
              "          const element = document.querySelector('#df-9f02a2ba-3ece-4c78-9cea-3fabc93e4b8e');\n",
              "          const dataTable =\n",
              "            await google.colab.kernel.invokeFunction('convertToInteractive',\n",
              "                                                     [key], {});\n",
              "          if (!dataTable) return;\n",
              "\n",
              "          const docLinkHtml = 'Like what you see? Visit the ' +\n",
              "            '<a target=\"_blank\" href=https://colab.research.google.com/notebooks/data_table.ipynb>data table notebook</a>'\n",
              "            + ' to learn more about interactive tables.';\n",
              "          element.innerHTML = '';\n",
              "          dataTable['output_type'] = 'display_data';\n",
              "          await google.colab.output.renderOutput(dataTable, element);\n",
              "          const docLink = document.createElement('div');\n",
              "          docLink.innerHTML = docLinkHtml;\n",
              "          element.appendChild(docLink);\n",
              "        }\n",
              "      </script>\n",
              "    </div>\n",
              "  </div>\n",
              "  "
            ]
          },
          "metadata": {},
          "execution_count": 6
        }
      ],
      "source": [
        "missing_count = data.isna().sum()\n",
        "missing_percentage = missing_count / len(data) * 100\n",
        "missing_data = pd.DataFrame({\"Count\" : missing_count, \"Percentage\" : missing_percentage})\n",
        "missing_data"
      ]
    },
    {
      "cell_type": "markdown",
      "metadata": {
        "id": "kqxgT-kLKk-0"
      },
      "source": [
        "Пропущенных значений мало (менее 5%), а значит их можно удалить"
      ]
    },
    {
      "cell_type": "code",
      "execution_count": null,
      "metadata": {
        "id": "jtwDAFMjMAYt"
      },
      "outputs": [],
      "source": [
        "data = data.dropna(subset=missing_data.index.values)"
      ]
    },
    {
      "cell_type": "markdown",
      "metadata": {
        "id": "cxd4wLBbUEKM"
      },
      "source": [
        "Преобразуем столбец Size в тип float. Для этого будем измерять размер приложения в килобайтах. Информацию о приложениях без фиксированного размера удалим."
      ]
    },
    {
      "cell_type": "code",
      "execution_count": null,
      "metadata": {
        "id": "zGSxv2yllMPD"
      },
      "outputs": [],
      "source": [
        "data['Size'] = data.Size.apply(lambda x: x.strip('+'))\n",
        "data['Size'] = data.Size.apply(lambda x: x.replace(',', ''))\n",
        "data['Size'] = data.Size.apply(lambda x: x.replace('k', ''))\n",
        "data['Size'] = data.Size.apply(lambda x: x.replace('M', 'e+3'))\n",
        "data['Size'] = data.Size.apply(lambda x: x.replace('G', 'e+6'))\n",
        "data['Size'] = data.Size.replace('Varies with device', np.nan)\n",
        "data['Size'] = pd.to_numeric(data['Size'])\n",
        "data.dropna(subset = ['Size'], inplace=True)"
      ]
    },
    {
      "cell_type": "markdown",
      "metadata": {
        "id": "hk_-JiQrsFkI"
      },
      "source": [
        "Столбцы Released и Last Updated преобразуем в тип datetime"
      ]
    },
    {
      "cell_type": "code",
      "execution_count": null,
      "metadata": {
        "id": "r_6B0kP23xDQ"
      },
      "outputs": [],
      "source": [
        "data['Released'] = pd.to_datetime(data['Released'], format='%b %d, %Y', infer_datetime_format=True, errors='coerce')\n",
        "data['Last Updated'] = pd.to_datetime(data['Last Updated'], format='%b %d, %Y', infer_datetime_format=True, errors='coerce')"
      ]
    },
    {
      "cell_type": "markdown",
      "metadata": {
        "id": "2BB-fPzY4qcN"
      },
      "source": [
        "В минимальной версии андроида уберем примечание \"and up\""
      ]
    },
    {
      "cell_type": "code",
      "execution_count": null,
      "metadata": {
        "id": "bbqXtOHS4B_i"
      },
      "outputs": [],
      "source": [
        "data['Minimum Android'] = data['Minimum Android'].apply(lambda x: x.split()[0])"
      ]
    },
    {
      "cell_type": "code",
      "execution_count": null,
      "metadata": {
        "colab": {
          "base_uri": "https://localhost:8080/",
          "height": 834
        },
        "id": "_Vsq1MG2F91D",
        "outputId": "ad5a3825-eec5-48f3-86f2-e522edff36b7"
      },
      "outputs": [
        {
          "output_type": "execute_result",
          "data": {
            "text/plain": [
              "                                                  App Name       Category  \\\n",
              "0                                                  Gakondo      Adventure   \n",
              "1                                      Ampere Battery Info          Tools   \n",
              "2                                                   Vibook   Productivity   \n",
              "3        Smart City Trichy Public Service Vehicles 17UC...  Communication   \n",
              "4                                                  GROW.me          Tools   \n",
              "...                                                    ...            ...   \n",
              "2312938                        Lero TOEFL Recorder + Timer      Education   \n",
              "2312940                                         ORU Online      Education   \n",
              "2312941                                     Data Structure      Education   \n",
              "2312942                                        Devi Suktam  Music & Audio   \n",
              "2312943                       Biliyor Musun - Sonsuz Yarış         Trivia   \n",
              "\n",
              "         Rating  Rating Count  Minimum Installs  Maximum Installs  Free  \\\n",
              "0           0.0           0.0              10.0                15  True   \n",
              "1           4.4          64.0            5000.0              7662  True   \n",
              "2           0.0           0.0              50.0                58  True   \n",
              "3           5.0           5.0              10.0                19  True   \n",
              "4           0.0           0.0             100.0               478  True   \n",
              "...         ...           ...               ...               ...   ...   \n",
              "2312938     3.4          17.0            1000.0              1980  True   \n",
              "2312940     0.0           0.0             100.0               430  True   \n",
              "2312941     0.0           0.0             100.0               202  True   \n",
              "2312942     3.5           8.0            1000.0              2635  True   \n",
              "2312943     5.0          12.0             100.0               354  True   \n",
              "\n",
              "         Price Currency     Size Minimum Android  \\\n",
              "0          0.0      USD  10000.0             7.1   \n",
              "1          0.0      USD   2900.0             5.0   \n",
              "2          0.0      USD   3700.0           4.0.3   \n",
              "3          0.0      USD   1800.0           4.0.3   \n",
              "4          0.0      USD   6200.0             4.1   \n",
              "...        ...      ...      ...             ...   \n",
              "2312938    0.0      USD  10000.0             4.1   \n",
              "2312940    0.0      USD  44000.0             4.1   \n",
              "2312941    0.0      USD  29000.0             5.0   \n",
              "2312942    0.0      USD  10000.0             5.0   \n",
              "2312943    0.0      USD   5200.0             5.0   \n",
              "\n",
              "                      Developer Email   Released Last Updated Content Rating  \\\n",
              "0              jean21101999@gmail.com 2020-02-26   2020-02-26       Everyone   \n",
              "1                webserveis@gmail.com 2020-05-21   2021-05-06       Everyone   \n",
              "2                 vnacrewit@gmail.com 2019-08-09   2019-08-19       Everyone   \n",
              "3         climatesmarttech2@gmail.com 2018-09-10   2018-10-13       Everyone   \n",
              "4           rmilekhorodyski@gmail.com 2020-02-21   2018-11-12       Everyone   \n",
              "...                               ...        ...          ...            ...   \n",
              "2312938            lero.doe@gmail.com 2018-05-22   2018-12-14       Everyone   \n",
              "2312940     3DreamDeveloper@gmail.com 2018-01-17   2018-02-02       Everyone   \n",
              "2312941  appoworld.official@gmail.com 2018-08-19   2018-08-19       Everyone   \n",
              "2312942           ruchisono@gmail.com 2016-08-01   2021-05-05       Everyone   \n",
              "2312943     yyazilimdevelop@gmail.com 2019-08-09   2019-08-19       Everyone   \n",
              "\n",
              "         Ad Supported  In App Purchases  Editors Choice  \n",
              "0               False             False           False  \n",
              "1                True             False           False  \n",
              "2               False             False           False  \n",
              "3                True             False           False  \n",
              "4               False             False           False  \n",
              "...               ...               ...             ...  \n",
              "2312938          True             False           False  \n",
              "2312940         False             False           False  \n",
              "2312941         False             False           False  \n",
              "2312942          True             False           False  \n",
              "2312943          True             False           False  \n",
              "\n",
              "[2184156 rows x 18 columns]"
            ],
            "text/html": [
              "\n",
              "  <div id=\"df-04517b81-28a2-4c03-b96a-89c40d4dd359\">\n",
              "    <div class=\"colab-df-container\">\n",
              "      <div>\n",
              "<style scoped>\n",
              "    .dataframe tbody tr th:only-of-type {\n",
              "        vertical-align: middle;\n",
              "    }\n",
              "\n",
              "    .dataframe tbody tr th {\n",
              "        vertical-align: top;\n",
              "    }\n",
              "\n",
              "    .dataframe thead th {\n",
              "        text-align: right;\n",
              "    }\n",
              "</style>\n",
              "<table border=\"1\" class=\"dataframe\">\n",
              "  <thead>\n",
              "    <tr style=\"text-align: right;\">\n",
              "      <th></th>\n",
              "      <th>App Name</th>\n",
              "      <th>Category</th>\n",
              "      <th>Rating</th>\n",
              "      <th>Rating Count</th>\n",
              "      <th>Minimum Installs</th>\n",
              "      <th>Maximum Installs</th>\n",
              "      <th>Free</th>\n",
              "      <th>Price</th>\n",
              "      <th>Currency</th>\n",
              "      <th>Size</th>\n",
              "      <th>Minimum Android</th>\n",
              "      <th>Developer Email</th>\n",
              "      <th>Released</th>\n",
              "      <th>Last Updated</th>\n",
              "      <th>Content Rating</th>\n",
              "      <th>Ad Supported</th>\n",
              "      <th>In App Purchases</th>\n",
              "      <th>Editors Choice</th>\n",
              "    </tr>\n",
              "  </thead>\n",
              "  <tbody>\n",
              "    <tr>\n",
              "      <th>0</th>\n",
              "      <td>Gakondo</td>\n",
              "      <td>Adventure</td>\n",
              "      <td>0.0</td>\n",
              "      <td>0.0</td>\n",
              "      <td>10.0</td>\n",
              "      <td>15</td>\n",
              "      <td>True</td>\n",
              "      <td>0.0</td>\n",
              "      <td>USD</td>\n",
              "      <td>10000.0</td>\n",
              "      <td>7.1</td>\n",
              "      <td>jean21101999@gmail.com</td>\n",
              "      <td>2020-02-26</td>\n",
              "      <td>2020-02-26</td>\n",
              "      <td>Everyone</td>\n",
              "      <td>False</td>\n",
              "      <td>False</td>\n",
              "      <td>False</td>\n",
              "    </tr>\n",
              "    <tr>\n",
              "      <th>1</th>\n",
              "      <td>Ampere Battery Info</td>\n",
              "      <td>Tools</td>\n",
              "      <td>4.4</td>\n",
              "      <td>64.0</td>\n",
              "      <td>5000.0</td>\n",
              "      <td>7662</td>\n",
              "      <td>True</td>\n",
              "      <td>0.0</td>\n",
              "      <td>USD</td>\n",
              "      <td>2900.0</td>\n",
              "      <td>5.0</td>\n",
              "      <td>webserveis@gmail.com</td>\n",
              "      <td>2020-05-21</td>\n",
              "      <td>2021-05-06</td>\n",
              "      <td>Everyone</td>\n",
              "      <td>True</td>\n",
              "      <td>False</td>\n",
              "      <td>False</td>\n",
              "    </tr>\n",
              "    <tr>\n",
              "      <th>2</th>\n",
              "      <td>Vibook</td>\n",
              "      <td>Productivity</td>\n",
              "      <td>0.0</td>\n",
              "      <td>0.0</td>\n",
              "      <td>50.0</td>\n",
              "      <td>58</td>\n",
              "      <td>True</td>\n",
              "      <td>0.0</td>\n",
              "      <td>USD</td>\n",
              "      <td>3700.0</td>\n",
              "      <td>4.0.3</td>\n",
              "      <td>vnacrewit@gmail.com</td>\n",
              "      <td>2019-08-09</td>\n",
              "      <td>2019-08-19</td>\n",
              "      <td>Everyone</td>\n",
              "      <td>False</td>\n",
              "      <td>False</td>\n",
              "      <td>False</td>\n",
              "    </tr>\n",
              "    <tr>\n",
              "      <th>3</th>\n",
              "      <td>Smart City Trichy Public Service Vehicles 17UC...</td>\n",
              "      <td>Communication</td>\n",
              "      <td>5.0</td>\n",
              "      <td>5.0</td>\n",
              "      <td>10.0</td>\n",
              "      <td>19</td>\n",
              "      <td>True</td>\n",
              "      <td>0.0</td>\n",
              "      <td>USD</td>\n",
              "      <td>1800.0</td>\n",
              "      <td>4.0.3</td>\n",
              "      <td>climatesmarttech2@gmail.com</td>\n",
              "      <td>2018-09-10</td>\n",
              "      <td>2018-10-13</td>\n",
              "      <td>Everyone</td>\n",
              "      <td>True</td>\n",
              "      <td>False</td>\n",
              "      <td>False</td>\n",
              "    </tr>\n",
              "    <tr>\n",
              "      <th>4</th>\n",
              "      <td>GROW.me</td>\n",
              "      <td>Tools</td>\n",
              "      <td>0.0</td>\n",
              "      <td>0.0</td>\n",
              "      <td>100.0</td>\n",
              "      <td>478</td>\n",
              "      <td>True</td>\n",
              "      <td>0.0</td>\n",
              "      <td>USD</td>\n",
              "      <td>6200.0</td>\n",
              "      <td>4.1</td>\n",
              "      <td>rmilekhorodyski@gmail.com</td>\n",
              "      <td>2020-02-21</td>\n",
              "      <td>2018-11-12</td>\n",
              "      <td>Everyone</td>\n",
              "      <td>False</td>\n",
              "      <td>False</td>\n",
              "      <td>False</td>\n",
              "    </tr>\n",
              "    <tr>\n",
              "      <th>...</th>\n",
              "      <td>...</td>\n",
              "      <td>...</td>\n",
              "      <td>...</td>\n",
              "      <td>...</td>\n",
              "      <td>...</td>\n",
              "      <td>...</td>\n",
              "      <td>...</td>\n",
              "      <td>...</td>\n",
              "      <td>...</td>\n",
              "      <td>...</td>\n",
              "      <td>...</td>\n",
              "      <td>...</td>\n",
              "      <td>...</td>\n",
              "      <td>...</td>\n",
              "      <td>...</td>\n",
              "      <td>...</td>\n",
              "      <td>...</td>\n",
              "      <td>...</td>\n",
              "    </tr>\n",
              "    <tr>\n",
              "      <th>2312938</th>\n",
              "      <td>Lero TOEFL Recorder + Timer</td>\n",
              "      <td>Education</td>\n",
              "      <td>3.4</td>\n",
              "      <td>17.0</td>\n",
              "      <td>1000.0</td>\n",
              "      <td>1980</td>\n",
              "      <td>True</td>\n",
              "      <td>0.0</td>\n",
              "      <td>USD</td>\n",
              "      <td>10000.0</td>\n",
              "      <td>4.1</td>\n",
              "      <td>lero.doe@gmail.com</td>\n",
              "      <td>2018-05-22</td>\n",
              "      <td>2018-12-14</td>\n",
              "      <td>Everyone</td>\n",
              "      <td>True</td>\n",
              "      <td>False</td>\n",
              "      <td>False</td>\n",
              "    </tr>\n",
              "    <tr>\n",
              "      <th>2312940</th>\n",
              "      <td>ORU Online</td>\n",
              "      <td>Education</td>\n",
              "      <td>0.0</td>\n",
              "      <td>0.0</td>\n",
              "      <td>100.0</td>\n",
              "      <td>430</td>\n",
              "      <td>True</td>\n",
              "      <td>0.0</td>\n",
              "      <td>USD</td>\n",
              "      <td>44000.0</td>\n",
              "      <td>4.1</td>\n",
              "      <td>3DreamDeveloper@gmail.com</td>\n",
              "      <td>2018-01-17</td>\n",
              "      <td>2018-02-02</td>\n",
              "      <td>Everyone</td>\n",
              "      <td>False</td>\n",
              "      <td>False</td>\n",
              "      <td>False</td>\n",
              "    </tr>\n",
              "    <tr>\n",
              "      <th>2312941</th>\n",
              "      <td>Data Structure</td>\n",
              "      <td>Education</td>\n",
              "      <td>0.0</td>\n",
              "      <td>0.0</td>\n",
              "      <td>100.0</td>\n",
              "      <td>202</td>\n",
              "      <td>True</td>\n",
              "      <td>0.0</td>\n",
              "      <td>USD</td>\n",
              "      <td>29000.0</td>\n",
              "      <td>5.0</td>\n",
              "      <td>appoworld.official@gmail.com</td>\n",
              "      <td>2018-08-19</td>\n",
              "      <td>2018-08-19</td>\n",
              "      <td>Everyone</td>\n",
              "      <td>False</td>\n",
              "      <td>False</td>\n",
              "      <td>False</td>\n",
              "    </tr>\n",
              "    <tr>\n",
              "      <th>2312942</th>\n",
              "      <td>Devi Suktam</td>\n",
              "      <td>Music &amp; Audio</td>\n",
              "      <td>3.5</td>\n",
              "      <td>8.0</td>\n",
              "      <td>1000.0</td>\n",
              "      <td>2635</td>\n",
              "      <td>True</td>\n",
              "      <td>0.0</td>\n",
              "      <td>USD</td>\n",
              "      <td>10000.0</td>\n",
              "      <td>5.0</td>\n",
              "      <td>ruchisono@gmail.com</td>\n",
              "      <td>2016-08-01</td>\n",
              "      <td>2021-05-05</td>\n",
              "      <td>Everyone</td>\n",
              "      <td>True</td>\n",
              "      <td>False</td>\n",
              "      <td>False</td>\n",
              "    </tr>\n",
              "    <tr>\n",
              "      <th>2312943</th>\n",
              "      <td>Biliyor Musun - Sonsuz Yarış</td>\n",
              "      <td>Trivia</td>\n",
              "      <td>5.0</td>\n",
              "      <td>12.0</td>\n",
              "      <td>100.0</td>\n",
              "      <td>354</td>\n",
              "      <td>True</td>\n",
              "      <td>0.0</td>\n",
              "      <td>USD</td>\n",
              "      <td>5200.0</td>\n",
              "      <td>5.0</td>\n",
              "      <td>yyazilimdevelop@gmail.com</td>\n",
              "      <td>2019-08-09</td>\n",
              "      <td>2019-08-19</td>\n",
              "      <td>Everyone</td>\n",
              "      <td>True</td>\n",
              "      <td>False</td>\n",
              "      <td>False</td>\n",
              "    </tr>\n",
              "  </tbody>\n",
              "</table>\n",
              "<p>2184156 rows × 18 columns</p>\n",
              "</div>\n",
              "      <button class=\"colab-df-convert\" onclick=\"convertToInteractive('df-04517b81-28a2-4c03-b96a-89c40d4dd359')\"\n",
              "              title=\"Convert this dataframe to an interactive table.\"\n",
              "              style=\"display:none;\">\n",
              "        \n",
              "  <svg xmlns=\"http://www.w3.org/2000/svg\" height=\"24px\"viewBox=\"0 0 24 24\"\n",
              "       width=\"24px\">\n",
              "    <path d=\"M0 0h24v24H0V0z\" fill=\"none\"/>\n",
              "    <path d=\"M18.56 5.44l.94 2.06.94-2.06 2.06-.94-2.06-.94-.94-2.06-.94 2.06-2.06.94zm-11 1L8.5 8.5l.94-2.06 2.06-.94-2.06-.94L8.5 2.5l-.94 2.06-2.06.94zm10 10l.94 2.06.94-2.06 2.06-.94-2.06-.94-.94-2.06-.94 2.06-2.06.94z\"/><path d=\"M17.41 7.96l-1.37-1.37c-.4-.4-.92-.59-1.43-.59-.52 0-1.04.2-1.43.59L10.3 9.45l-7.72 7.72c-.78.78-.78 2.05 0 2.83L4 21.41c.39.39.9.59 1.41.59.51 0 1.02-.2 1.41-.59l7.78-7.78 2.81-2.81c.8-.78.8-2.07 0-2.86zM5.41 20L4 18.59l7.72-7.72 1.47 1.35L5.41 20z\"/>\n",
              "  </svg>\n",
              "      </button>\n",
              "      \n",
              "  <style>\n",
              "    .colab-df-container {\n",
              "      display:flex;\n",
              "      flex-wrap:wrap;\n",
              "      gap: 12px;\n",
              "    }\n",
              "\n",
              "    .colab-df-convert {\n",
              "      background-color: #E8F0FE;\n",
              "      border: none;\n",
              "      border-radius: 50%;\n",
              "      cursor: pointer;\n",
              "      display: none;\n",
              "      fill: #1967D2;\n",
              "      height: 32px;\n",
              "      padding: 0 0 0 0;\n",
              "      width: 32px;\n",
              "    }\n",
              "\n",
              "    .colab-df-convert:hover {\n",
              "      background-color: #E2EBFA;\n",
              "      box-shadow: 0px 1px 2px rgba(60, 64, 67, 0.3), 0px 1px 3px 1px rgba(60, 64, 67, 0.15);\n",
              "      fill: #174EA6;\n",
              "    }\n",
              "\n",
              "    [theme=dark] .colab-df-convert {\n",
              "      background-color: #3B4455;\n",
              "      fill: #D2E3FC;\n",
              "    }\n",
              "\n",
              "    [theme=dark] .colab-df-convert:hover {\n",
              "      background-color: #434B5C;\n",
              "      box-shadow: 0px 1px 3px 1px rgba(0, 0, 0, 0.15);\n",
              "      filter: drop-shadow(0px 1px 2px rgba(0, 0, 0, 0.3));\n",
              "      fill: #FFFFFF;\n",
              "    }\n",
              "  </style>\n",
              "\n",
              "      <script>\n",
              "        const buttonEl =\n",
              "          document.querySelector('#df-04517b81-28a2-4c03-b96a-89c40d4dd359 button.colab-df-convert');\n",
              "        buttonEl.style.display =\n",
              "          google.colab.kernel.accessAllowed ? 'block' : 'none';\n",
              "\n",
              "        async function convertToInteractive(key) {\n",
              "          const element = document.querySelector('#df-04517b81-28a2-4c03-b96a-89c40d4dd359');\n",
              "          const dataTable =\n",
              "            await google.colab.kernel.invokeFunction('convertToInteractive',\n",
              "                                                     [key], {});\n",
              "          if (!dataTable) return;\n",
              "\n",
              "          const docLinkHtml = 'Like what you see? Visit the ' +\n",
              "            '<a target=\"_blank\" href=https://colab.research.google.com/notebooks/data_table.ipynb>data table notebook</a>'\n",
              "            + ' to learn more about interactive tables.';\n",
              "          element.innerHTML = '';\n",
              "          dataTable['output_type'] = 'display_data';\n",
              "          await google.colab.output.renderOutput(dataTable, element);\n",
              "          const docLink = document.createElement('div');\n",
              "          docLink.innerHTML = docLinkHtml;\n",
              "          element.appendChild(docLink);\n",
              "        }\n",
              "      </script>\n",
              "    </div>\n",
              "  </div>\n",
              "  "
            ]
          },
          "metadata": {},
          "execution_count": 11
        }
      ],
      "source": [
        "data"
      ]
    },
    {
      "cell_type": "markdown",
      "metadata": {
        "id": "yvcKl0P-qjL3"
      },
      "source": [
        "# Гипотезы"
      ]
    },
    {
      "cell_type": "markdown",
      "metadata": {
        "id": "Zd8ZnGwXkOSe"
      },
      "source": [
        "Гипотеза 1: В раздел \"Выбор редакции\" не попадают приложения с рейтингом ниже 3 (Не подтверждена)\n",
        "\n",
        "Несмотря на то, что большая часть приложений в разделе имеет рейтинг выше 3, приложения с рейтингом ниже всё-таки присутствуют."
      ]
    },
    {
      "cell_type": "code",
      "execution_count": null,
      "metadata": {
        "colab": {
          "base_uri": "https://localhost:8080/",
          "height": 385
        },
        "id": "xI3WJAqDkUn3",
        "outputId": "53ab5e00-a716-41b1-d241-a4f89fe28244"
      },
      "outputs": [
        {
          "output_type": "display_data",
          "data": {
            "text/plain": [
              "<Figure size 360x360 with 1 Axes>"
            ],
            "image/png": "[encoded data removed]"
          },
          "metadata": {
            "needs_background": "light"
          }
        }
      ],
      "source": [
        "data1 = data[data['Editors Choice'] == True]\n",
        "sns.displot(data1, x='Rating')\n",
        "plt.title('Rating distribution for Apps in Editors Choice', size=13);"
      ]
    },
    {
      "cell_type": "markdown",
      "metadata": {
        "id": "GZMdB5rnrwOr"
      },
      "source": [
        "Гипотеза 2: Бесплатные приложения чаще содержат платный контент (Подтверждена)\n",
        "\n",
        "Второй возможный приток денег - платный контент. И он правда чаще встречается в бесплатных приложения, но более 90% бесплатных приложений покупок внутри не содержат."
      ]
    },
    {
      "cell_type": "code",
      "execution_count": null,
      "metadata": {
        "colab": {
          "base_uri": "https://localhost:8080/",
          "height": 453
        },
        "id": "I-j8q8Hxrw3l",
        "outputId": "e1375a22-d60b-4293-ce3e-68c4d99b4b06"
      },
      "outputs": [
        {
          "output_type": "display_data",
          "data": {
            "text/plain": [
              "<Figure size 1152x576 with 2 Axes>"
            ],
            "image/png": "[encoded data removed]"
          },
          "metadata": {}
        }
      ],
      "source": [
        "data2 = pd.DataFrame(data.groupby(['Free', 'In App Purchases']).agg('count')['App Name']).reset_index().rename(columns={'App Name': 'Count'})\n",
        "for i in range(len(data2)):\n",
        "    if data2.at[i, 'In App Purchases'] == True:\n",
        "        data2.loc[i, 'In App Purchases'] = \"Have In-App Purchases\"\n",
        "    else:\n",
        "        data2.loc[i, 'In App Purchases'] = \"Haven't In-App Purchases\"\n",
        "\n",
        "data2_free = data2[data2.Free == True]\n",
        "data2_not_free = data2[data2.Free == False]\n",
        "\n",
        "sns.set_palette(\"Set2\")\n",
        "fig, axis = plt.subplots(1, 2, figsize=(16, 8))\n",
        "axis[0].pie(x=data2_free.Count, labels=data2_free['In App Purchases'], wedgeprops=dict(width=0.6), startangle=-40, autopct='%1.1f%%')\n",
        "axis[1].pie(x=data2_not_free.Count, labels=data2_not_free['In App Purchases'], wedgeprops=dict(width=0.6), startangle=-40, autopct='%1.1f%%'); #легенду сделать можно, но мне пока лень(\n",
        "axis[0].set(title='Free Apps')\n",
        "axis[1].set(title='Non-Free Apps')\n",
        "plt.show()"
      ]
    },
    {
      "cell_type": "markdown",
      "metadata": {
        "id": "iPsUcQ9twpYw"
      },
      "source": [
        "Гипотеза 3: Приложения, содержащие рекламу, всегда содержат платный контент (Не подтверждена)\n",
        "\n",
        "Как оказалось, приложений, содержащих и рекламу, и платный контент одновременно, очень мало, это связано с тем, что в целом приложений, имеющих платный контент, не так много."
      ]
    },
    {
      "cell_type": "code",
      "execution_count": null,
      "metadata": {
        "colab": {
          "base_uri": "https://localhost:8080/",
          "height": 453
        },
        "id": "me1gcpeksnSp",
        "outputId": "e2674d9e-58cb-436b-b1de-07f07ce9185f"
      },
      "outputs": [
        {
          "output_type": "display_data",
          "data": {
            "text/plain": [
              "<Figure size 1152x576 with 2 Axes>"
            ],
            "image/png": "[encoded data removed]"
          },
          "metadata": {}
        }
      ],
      "source": [
        "data3 = pd.DataFrame(data.groupby(['Ad Supported', 'In App Purchases']).agg('count')['App Name']).reset_index().rename(columns={'App Name': 'Count'})\n",
        "for i in range(len(data3)):\n",
        "    if data3.at[i, 'In App Purchases'] == True:\n",
        "        data3.loc[i, 'In App Purchases'] = \"Have In-App Purchases\"\n",
        "    else:\n",
        "        data3.loc[i, 'In App Purchases'] = \"Haven't In-App Purchases\"\n",
        "\n",
        "data3_with_ads = data3[data3['Ad Supported'] == True]\n",
        "data3_without_ads = data3[data3['Ad Supported'] == False]\n",
        "\n",
        "sns.set_palette(\"Set3\")\n",
        "fig, axis = plt.subplots(1, 2, figsize=(16, 8))\n",
        "axis[0].pie(x=data3_with_ads.Count, labels=data3_with_ads['In App Purchases'], wedgeprops=dict(width=0.6), startangle=-40, autopct='%1.1f%%')\n",
        "axis[1].pie(x=data3_without_ads.Count, labels=data3_without_ads['In App Purchases'], wedgeprops=dict(width=0.6), startangle=-40, autopct='%1.1f%%');\n",
        "axis[0].set(title='Ad Supported')\n",
        "axis[1].set(title='Ad not Supported')\n",
        "plt.show()"
      ]
    },
    {
      "cell_type": "markdown",
      "metadata": {
        "id": "PlpLpIZU3WQp"
      },
      "source": [
        "Гипотеза 4: Все разработчики пользуются почтовым сервисом GMail (Не подтверждена)\n",
        "\n",
        "Казалось, что разработчикам обзательно нужно иметь почтовый домен от компании Google, чтобы загружать приложения в их магазин приложений. Как оказалось, только чуть больше половины разработчкиов пользуются почтовым сервисом Google.\n"
      ]
    },
    {
      "cell_type": "code",
      "execution_count": null,
      "metadata": {
        "colab": {
          "base_uri": "https://localhost:8080/",
          "height": 295
        },
        "id": "cQ1ykgPk3bsQ",
        "outputId": "510d81b6-9568-4618-837a-3d3ab20458d7"
      },
      "outputs": [
        {
          "output_type": "display_data",
          "data": {
            "text/plain": [
              "<Figure size 432x288 with 1 Axes>"
            ],
            "image/png": "[encoded data removed]"
          },
          "metadata": {
            "needs_background": "light"
          }
        }
      ],
      "source": [
        "sns.set_palette('Set2')\n",
        "data4 = data[['Developer Email']]\n",
        "data4['Gmail bool'] = data4['Developer Email'].apply(lambda x: \"@gmail.com\" in x)\n",
        "data4 = data4.groupby('Gmail bool').agg('count').reset_index()\n",
        "sns.barplot(x=data4['Gmail bool'], y=data4['Developer Email'])\n",
        "plt.ylabel('count')\n",
        "plt.xlabel('Is Gmail')\n",
        "plt.title('Developer Email Distribution');\n"
      ]
    },
    {
      "cell_type": "markdown",
      "metadata": {
        "id": "vr-GEmywdq1r"
      },
      "source": [
        "Гипотеза 5: Приложения с более низкими требованиями к версии Android более скачиваемы (Подтверждена)\n",
        "\n",
        "Наиболее скачиваемы приложения, поддерживающие версии Android 4.1, 4.4, 5.0, являющиеся устаревшими."
      ]
    },
    {
      "cell_type": "code",
      "execution_count": null,
      "metadata": {
        "colab": {
          "base_uri": "https://localhost:8080/",
          "height": 404
        },
        "id": "lt9bhSNghE-E",
        "outputId": "5feb7dc6-4c0c-43db-d456-238096b668fe"
      },
      "outputs": [
        {
          "output_type": "display_data",
          "data": {
            "text/plain": [
              "<Figure size 936x432 with 1 Axes>"
            ],
            "image/png": "[encoded data removed]"
          },
          "metadata": {
            "needs_background": "light"
          }
        }
      ],
      "source": [
        "plt.figure(figsize = (13,6))\n",
        "data5 = data[['Minimum Android','Maximum Installs']]\n",
        "data5 = data5.groupby('Minimum Android').agg('count').drop('Varies', axis=0).reset_index().rename(columns={'Maximum Installs': 'Count'})\n",
        "sns.lineplot(x='Minimum Android', y='Count', data=data5)\n",
        "plt.title('Installs for different android versions', size=12);"
      ]
    },
    {
      "cell_type": "markdown",
      "metadata": {
        "id": "iQOJODMOpa5h"
      },
      "source": [
        "Гипотеза 6: Приложения, ни разу не обновлённые после релиза, почти не имеют скачиваний (меньше 1000 скачиваний) (Подтверждена)\n",
        "\n",
        "Как видно из графика, медианное значение скачиваний менее 100, хотя и имеется большое количество выбрсоов."
      ]
    },
    {
      "cell_type": "code",
      "execution_count": null,
      "metadata": {
        "colab": {
          "base_uri": "https://localhost:8080/",
          "height": 295
        },
        "id": "CAjtwzNHpc6g",
        "outputId": "aeaab887-1686-4049-adab-b2d379c8ed3e"
      },
      "outputs": [
        {
          "output_type": "display_data",
          "data": {
            "text/plain": [
              "<Figure size 864x288 with 2 Axes>"
            ],
            "image/png": "[encoded data removed]"
          },
          "metadata": {
            "needs_background": "light"
          }
        }
      ],
      "source": [
        "data6 = data.loc[data['Released']==data['Last Updated']]\n",
        "data6_not_ex = data6[data6['Maximum Installs'] < data6.describe().at['75%','Maximum Installs']]\n",
        "\n",
        "fig, axis = plt.subplots(1, 2, figsize=(12, 4))\n",
        "sns.boxplot(x=data6['Maximum Installs'], ax=axis[0])\n",
        "sns.boxplot(x=data6_not_ex['Maximum Installs'], ax=axis[1])\n",
        "axis[0].set(title='Number of downloads')\n",
        "axis[1].set(title='Number of downloads (less outliers)');"
      ]
    },
    {
      "cell_type": "markdown",
      "source": [
        "Гипотеза 7: Приложения с низкими требованиями к версии Android давно не обновлялись (Подтверждена)\n",
        "\n",
        "Чем выше версия Android, тем меньше времени прошло с последнего обновления."
      ],
      "metadata": {
        "id": "a3mrdfFBmyyA"
      }
    },
    {
      "cell_type": "code",
      "source": [
        "data7 = data[data['Last Updated'] >= data['Released']]\n",
        "data7['Update diff'] = (pd.Timestamp.now() - data7['Last Updated']).dt.days\n",
        "data7 = pd.DataFrame(data7.groupby('Minimum Android').agg('mean').drop('Varies', axis=0)['Update diff'])\n",
        "\n",
        "plt.figure(figsize = (13,6))\n",
        "sns.lineplot(x='Minimum Android', y='Update diff', data=data7)\n",
        "plt.title('The age of updates for different android versions', size=12);"
      ],
      "metadata": {
        "colab": {
          "base_uri": "https://localhost:8080/",
          "height": 404
        },
        "id": "MlnpUaqem0v4",
        "outputId": "2e8c2c29-1aa4-40b9-ff54-6f98c463255e"
      },
      "execution_count": null,
      "outputs": [
        {
          "output_type": "display_data",
          "data": {
            "text/plain": [
              "<Figure size 936x432 with 1 Axes>"
            ],
            "image/png": "[encoded data removed]"
          },
          "metadata": {
            "needs_background": "light"
          }
        }
      ]
    },
    {
      "cell_type": "markdown",
      "source": [
        "Гипотеза 8: Платные приложения имеют более высокий рейтинг (Подтверждена)\n",
        "\n",
        "Средний рейтинг платных приложений действительно выше, однако эта разница совсем не существенна"
      ],
      "metadata": {
        "id": "vrRe4jajXOpZ"
      }
    },
    {
      "cell_type": "code",
      "source": [
        "data8 = data[data['Rating'] > 0]\n",
        "data8 = data8.groupby(['Free'])['Rating'].mean().to_frame()\n",
        "sns.barplot(x=data8.index, y=data8.Rating)\n",
        "plt.xlabel('Is Free')\n",
        "plt.title('Average Rating for free and non-free Apps', size=15);"
      ],
      "metadata": {
        "colab": {
          "base_uri": "https://localhost:8080/",
          "height": 297
        },
        "id": "YZhX8LP94U0Y",
        "outputId": "4cb26f9e-c6e0-4388-83e8-34eefcf2720b"
      },
      "execution_count": null,
      "outputs": [
        {
          "output_type": "display_data",
          "data": {
            "text/plain": [
              "<Figure size 432x288 with 1 Axes>"
            ],
            "image/png": "[encoded data removed]"
          },
          "metadata": {
            "needs_background": "light"
          }
        }
      ]
    }
  ],
  "metadata": {
    "colab": {
      "collapsed_sections": [
        "C8x9b5tUIwjW"
      ],
      "provenance": []
    },
    "kernelspec": {
      "display_name": "Python 3",
      "name": "python3"
    },
    "language_info": {
      "name": "python"
    }
  },
  "nbformat": 4,
  "nbformat_minor": 0
}