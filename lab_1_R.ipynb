{
  "cells": [
    {
      "cell_type": "markdown",
      "metadata": {
        "id": "gXG3QdhVLmkk"
      },
      "source": [
        "Для выполнения заданий возьмите данные из папки [data](https://drive.google.com/drive/folders/17E4vB5kWr5FNjLKRU4XGoJSVTxn1jkg4?usp=sharing) о продажах. Данные распределены по 4 папкам:\n",
        "* sales_train.csv - данные о продажах с января 2013 по октябрь 2015.\n",
        "** date - дата продажы\n",
        "** date_block_num - номер месяца по порядку следования\n",
        "** shop_id - идентификатор магазина\n",
        "** item_id - идентификатор товара\n",
        "** item_price - цена товара\n",
        "** item_cnt_day - количество проданного товара одного вида в день\n",
        "\n",
        "* items.csv - подробная информация о товарах\n",
        "** item_id - идентификатор товара\n",
        "** item_name - название товара\n",
        "** category_id - идентификатор категории товара\n",
        "\n",
        "* item_categories.csv - подробная информация о категориях товаров\n",
        "** item_category_id - идентификатор категории товара\n",
        "** category_name - название категории товара\n",
        "\n",
        "* shops.csv - подробная информация о магазинах\n",
        "** shop_id - идентификатор магазина\n",
        "** shop_name - название магазина\n"
      ]
    },
    {
      "cell_type": "markdown",
      "metadata": {
        "id": "X5oEdrHBJ9t8"
      },
      "source": [
        "# Задание 1"
      ]
    },
    {
      "cell_type": "markdown",
      "metadata": {
        "id": "8tjm8ZhmKCDv"
      },
      "source": [
        "1. Найдите топ-10 самых часто покупаемых товаров (не забудьте учесть столбец item_cnt_day).\n",
        "2. Оставьте только те из них, которые покупали все три года (2013, 2014, 2015)."
      ]
    },
    {
      "cell_type": "code",
      "execution_count": null,
      "metadata": {
        "colab": {
          "base_uri": "https://localhost:8080/",
          "height": 411
        },
        "id": "c9l_EZ1t9GkN",
        "outputId": "3cea3a19-36b3-4d6b-d55f-6eaa3dacb4d0"
      },
      "outputs": [
        {
          "data": {
            "text/html": [
              "<table class=\"dataframe\">\n",
              "<caption>A data.frame: 10 × 2</caption>\n",
              "<thead>\n",
              "\t<tr><th></th><th scope=col>Group.1</th><th scope=col>x</th></tr>\n",
              "\t<tr><th></th><th scope=col>&lt;int&gt;</th><th scope=col>&lt;dbl&gt;</th></tr>\n",
              "</thead>\n",
              "<tbody>\n",
              "\t<tr><th scope=row>20603</th><td>20949</td><td>187642</td></tr>\n",
              "\t<tr><th scope=row>2750</th><td> 2808</td><td> 17245</td></tr>\n",
              "\t<tr><th scope=row>3655</th><td> 3732</td><td> 16642</td></tr>\n",
              "\t<tr><th scope=row>17419</th><td>17717</td><td> 15830</td></tr>\n",
              "\t<tr><th scope=row>5718</th><td> 5822</td><td> 14515</td></tr>\n",
              "\t<tr><th scope=row>3657</th><td> 3734</td><td> 11688</td></tr>\n",
              "\t<tr><th scope=row>6544</th><td> 6675</td><td> 10289</td></tr>\n",
              "\t<tr><th scope=row>3654</th><td> 3731</td><td> 10099</td></tr>\n",
              "\t<tr><th scope=row>1815</th><td> 1855</td><td> 10032</td></tr>\n",
              "\t<tr><th scope=row>16494</th><td>16787</td><td>  9227</td></tr>\n",
              "</tbody>\n",
              "</table>\n"
            ],
            "text/latex": "A data.frame: 10 × 2\n\\begin{tabular}{r|ll}\n  & Group.1 & x\\\\\n  & <int> & <dbl>\\\\\n\\hline\n\t20603 & 20949 & 187642\\\\\n\t2750 &  2808 &  17245\\\\\n\t3655 &  3732 &  16642\\\\\n\t17419 & 17717 &  15830\\\\\n\t5718 &  5822 &  14515\\\\\n\t3657 &  3734 &  11688\\\\\n\t6544 &  6675 &  10289\\\\\n\t3654 &  3731 &  10099\\\\\n\t1815 &  1855 &  10032\\\\\n\t16494 & 16787 &   9227\\\\\n\\end{tabular}\n",
            "text/markdown": "\nA data.frame: 10 × 2\n\n| <!--/--> | Group.1 &lt;int&gt; | x &lt;dbl&gt; |\n|---|---|---|\n| 20603 | 20949 | 187642 |\n| 2750 |  2808 |  17245 |\n| 3655 |  3732 |  16642 |\n| 17419 | 17717 |  15830 |\n| 5718 |  5822 |  14515 |\n| 3657 |  3734 |  11688 |\n| 6544 |  6675 |  10289 |\n| 3654 |  3731 |  10099 |\n| 1815 |  1855 |  10032 |\n| 16494 | 16787 |   9227 |\n\n",
            "text/plain": [
              "      Group.1 x     \n",
              "20603 20949   187642\n",
              "2750   2808    17245\n",
              "3655   3732    16642\n",
              "17419 17717    15830\n",
              "5718   5822    14515\n",
              "3657   3734    11688\n",
              "6544   6675    10289\n",
              "3654   3731    10099\n",
              "1815   1855    10032\n",
              "16494 16787     9227"
            ]
          },
          "metadata": {},
          "output_type": "display_data"
        }
      ],
      "source": [
        "#пункт 1\n",
        "sales_train<-read.csv(\"sales_train.csv\", header = TRUE)\n",
        "sales_train<-sales_train[c(\"item_id\", \"item_cnt_day\")]\n",
        "top_10<-aggregate(sales_train$item_cnt_day, by=list(sales_train$item_id), FUN=sum)\n",
        "head(top_10[order(top_10$x, decreasing=TRUE),],n=10)\n"
      ]
    },
    {
      "cell_type": "code",
      "execution_count": null,
      "metadata": {
        "colab": {
          "base_uri": "https://localhost:8080/",
          "height": 380
        },
        "id": "cyoB00_-mO4O",
        "outputId": "3f4ded5d-f4f2-4004-a055-6e4db47339b6"
      },
      "outputs": [
        {
          "data": {
            "text/html": [
              "<table class=\"dataframe\">\n",
              "<caption>A data.frame: 9 × 2</caption>\n",
              "<thead>\n",
              "\t<tr><th></th><th scope=col>item_id</th><th scope=col>item_cnt_day</th></tr>\n",
              "\t<tr><th></th><th scope=col>&lt;int&gt;</th><th scope=col>&lt;dbl&gt;</th></tr>\n",
              "</thead>\n",
              "<tbody>\n",
              "\t<tr><th scope=row>20603</th><td>20949</td><td>187642</td></tr>\n",
              "\t<tr><th scope=row>2750</th><td> 2808</td><td> 17245</td></tr>\n",
              "\t<tr><th scope=row>3655</th><td> 3732</td><td> 16642</td></tr>\n",
              "\t<tr><th scope=row>17419</th><td>17717</td><td> 15830</td></tr>\n",
              "\t<tr><th scope=row>5718</th><td> 5822</td><td> 14515</td></tr>\n",
              "\t<tr><th scope=row>3657</th><td> 3734</td><td> 11688</td></tr>\n",
              "\t<tr><th scope=row>6544</th><td> 6675</td><td> 10289</td></tr>\n",
              "\t<tr><th scope=row>1815</th><td> 1855</td><td> 10032</td></tr>\n",
              "\t<tr><th scope=row>16494</th><td>16787</td><td>  9227</td></tr>\n",
              "</tbody>\n",
              "</table>\n"
            ],
            "text/latex": "A data.frame: 9 × 2\n\\begin{tabular}{r|ll}\n  & item\\_id & item\\_cnt\\_day\\\\\n  & <int> & <dbl>\\\\\n\\hline\n\t20603 & 20949 & 187642\\\\\n\t2750 &  2808 &  17245\\\\\n\t3655 &  3732 &  16642\\\\\n\t17419 & 17717 &  15830\\\\\n\t5718 &  5822 &  14515\\\\\n\t3657 &  3734 &  11688\\\\\n\t6544 &  6675 &  10289\\\\\n\t1815 &  1855 &  10032\\\\\n\t16494 & 16787 &   9227\\\\\n\\end{tabular}\n",
            "text/markdown": "\nA data.frame: 9 × 2\n\n| <!--/--> | item_id &lt;int&gt; | item_cnt_day &lt;dbl&gt; |\n|---|---|---|\n| 20603 | 20949 | 187642 |\n| 2750 |  2808 |  17245 |\n| 3655 |  3732 |  16642 |\n| 17419 | 17717 |  15830 |\n| 5718 |  5822 |  14515 |\n| 3657 |  3734 |  11688 |\n| 6544 |  6675 |  10289 |\n| 1815 |  1855 |  10032 |\n| 16494 | 16787 |   9227 |\n\n",
            "text/plain": [
              "      item_id item_cnt_day\n",
              "20603 20949   187642      \n",
              "2750   2808    17245      \n",
              "3655   3732    16642      \n",
              "17419 17717    15830      \n",
              "5718   5822    14515      \n",
              "3657   3734    11688      \n",
              "6544   6675    10289      \n",
              "1815   1855    10032      \n",
              "16494 16787     9227      "
            ]
          },
          "metadata": {},
          "output_type": "display_data"
        }
      ],
      "source": [
        "#пункт 2\n",
        "library(dplyr)\n",
        "\n",
        "sales_train<-read.csv(\"sales_train.csv\", header = TRUE)\n",
        "sales_train<-sales_train[c(\"item_id\", \"date_block_num\",\"item_cnt_day\")]\n",
        "sales_train<-sales_train %>% mutate (y2013=if_else(date_block_num <= 11,1,0))\n",
        "sales_train<-sales_train %>% mutate (y2014=if_else(date_block_num >= 12 & date_block_num<=23,1,0))\n",
        "sales_train<-sales_train %>% mutate (y2015=if_else(date_block_num >= 24 & date_block_num<=33,1,0))\n",
        "\n",
        "df<-aggregate(sales_train[c(\"item_cnt_day\",\"y2013\",\"y2014\",\"y2015\")], by=list(sales_train$item_id), FUN=sum)\n",
        "\n",
        "df_sort<-df[order(df$item_cnt_day, decreasing=TRUE),]\n",
        "\n",
        "df_sort<-head(df_sort,n=10)\n",
        "\n",
        "df_result<-df_sort[df_sort$y2013!=0 & df_sort$y2014!=0 & df_sort$y2015!=0,]\n",
        "df_result<-df_result[c(\"Group.1\",\"item_cnt_day\")]\n",
        "colnames(df_result) <- c(\"item_id\",\"item_cnt_day\")\n",
        "df_result"
      ]
    },
    {
      "cell_type": "markdown",
      "metadata": {
        "id": "oaood23UKK5e"
      },
      "source": [
        "# Задание 2"
      ]
    },
    {
      "cell_type": "markdown",
      "metadata": {
        "id": "6fKaQTb0KK5f"
      },
      "source": [
        "> При выполнении на pandas не используйте merge().\n",
        "\n",
        "1. Определите категорию товаров, в которой совершается минимальное число покупок. Выведите айди и название категории.\n",
        "2. Определите категорию товаров, в которой совершается максимальное число покупок. Выведите айди и название категории."
      ]
    },
    {
      "cell_type": "code",
      "execution_count": null,
      "metadata": {
        "colab": {
          "base_uri": "https://localhost:8080/",
          "height": 161
        },
        "id": "aUO2BN_hbWNk",
        "outputId": "7e72c50c-6f43-4e16-d699-89970cb21cc8"
      },
      "outputs": [
        {
          "output_type": "display_data",
          "data": {
            "text/html": [
              "<table class=\"dataframe\">\n",
              "<caption>A data.frame: 2 × 2</caption>\n",
              "<thead>\n",
              "\t<tr><th scope=col>category_id</th><th scope=col>item_category_name</th></tr>\n",
              "\t<tr><th scope=col>&lt;int&gt;</th><th scope=col>&lt;chr&gt;</th></tr>\n",
              "</thead>\n",
              "<tbody>\n",
              "\t<tr><td>10</td><td> Game consoles - PS2         </td></tr>\n",
              "\t<tr><td>51</td><td> Books - Cognitive literature</td></tr>\n",
              "</tbody>\n",
              "</table>\n"
            ],
            "text/markdown": "\nA data.frame: 2 × 2\n\n| category_id &lt;int&gt; | item_category_name &lt;chr&gt; |\n|---|---|\n| 10 |  Game consoles - PS2          |\n| 51 |  Books - Cognitive literature |\n\n",
            "text/latex": "A data.frame: 2 × 2\n\\begin{tabular}{ll}\n category\\_id & item\\_category\\_name\\\\\n <int> & <chr>\\\\\n\\hline\n\t 10 &  Game consoles - PS2         \\\\\n\t 51 &  Books - Cognitive literature\\\\\n\\end{tabular}\n",
            "text/plain": [
              "  category_id item_category_name           \n",
              "1 10           Game consoles - PS2         \n",
              "2 51           Books - Cognitive literature"
            ]
          },
          "metadata": {}
        }
      ],
      "source": [
        "#пункт 1 min\n",
        "library(dplyr)\n",
        "items<-read.csv(\"items.csv\", header = TRUE)\n",
        "item_categories<-read.csv(\"item_categories.csv\", header = TRUE)\n",
        "\n",
        "table_1<-merge(x=sales_train,y=items,by=c(\"item_id\"))\n",
        "\n",
        "table_2<-aggregate(table_1$item_cnt_day, by=list(table_1$category_id), FUN=sum)\n",
        "colnames(table_2) <- c(\"category_id\",\"item_cnt_day\")\n",
        "\n",
        "\n",
        "\n",
        "min<-min(table_2$item_cnt_day)\n",
        "table_3<-table_2[table_2$item_cnt_day == min,]\n",
        "\n",
        "table_4<-merge(x=table_3,y=item_categories,by.x=\"category_id\",by.y=\"item_category_id\")\n",
        "table_4[c(1,3)]\n",
        "# table_sort<-table_2[order(table_2$item_cnt_day, decreasing=FALSE),]\n",
        "# table_sort_min<-head(table_sort,n=2)\n",
        "# table_min<-merge(x=table_sort_min,y=item_categories, by.x=(\"category_id\"),by.y=(\"item_category_id\"))\n",
        "# table_min[c(1,3)]\n",
        "\n",
        "\n",
        "\n"
      ]
    },
    {
      "cell_type": "code",
      "execution_count": null,
      "metadata": {
        "colab": {
          "base_uri": "https://localhost:8080/",
          "height": 129
        },
        "id": "t8pURiF7k1Q4",
        "outputId": "9dfb2889-7fdb-44ff-b981-a571908e83b7"
      },
      "outputs": [
        {
          "output_type": "display_data",
          "data": {
            "text/html": [
              "<table class=\"dataframe\">\n",
              "<caption>A data.frame: 1 × 2</caption>\n",
              "<thead>\n",
              "\t<tr><th scope=col>category_id</th><th scope=col>item_category_name</th></tr>\n",
              "\t<tr><th scope=col>&lt;int&gt;</th><th scope=col>&lt;chr&gt;</th></tr>\n",
              "</thead>\n",
              "<tbody>\n",
              "\t<tr><td>40</td><td> Cinema - DVD</td></tr>\n",
              "</tbody>\n",
              "</table>\n"
            ],
            "text/markdown": "\nA data.frame: 1 × 2\n\n| category_id &lt;int&gt; | item_category_name &lt;chr&gt; |\n|---|---|\n| 40 |  Cinema - DVD |\n\n",
            "text/latex": "A data.frame: 1 × 2\n\\begin{tabular}{ll}\n category\\_id & item\\_category\\_name\\\\\n <int> & <chr>\\\\\n\\hline\n\t 40 &  Cinema - DVD\\\\\n\\end{tabular}\n",
            "text/plain": [
              "  category_id item_category_name\n",
              "1 40           Cinema - DVD     "
            ]
          },
          "metadata": {}
        }
      ],
      "source": [
        "#пункт 2 max\n",
        "library(dplyr)\n",
        "items<-read.csv(\"items.csv\", header = TRUE)\n",
        "item_categories<-read.csv(\"item_categories.csv\", header = TRUE)\n",
        "\n",
        "table_1<-merge(x=sales_train,y=items,by=c(\"item_id\"))\n",
        "\n",
        "table_2<-aggregate(table_1$item_cnt_day, by=list(table_1$category_id), FUN=sum)\n",
        "colnames(table_2) <- c(\"category_id\",\"item_cnt_day\")\n",
        "\n",
        "max<-max(table_2$item_cnt_day)\n",
        "table_3<-table_2[table_2$item_cnt_day == max,]\n",
        "\n",
        "table_4<-merge(x=table_3,y=item_categories,by.x=\"category_id\",by.y=\"item_category_id\")\n",
        "table_4[c(1,3)]\n",
        "\n",
        "# table_sort<-table_2[order(table_2$item_cnt_day, decreasing=TRUE),]\n",
        "# table_sort_max<-head(table_sort,n=1)\n",
        "# table_max<-merge(x=table_sort_max,y=item_categories, by.x=(\"category_id\"),by.y=(\"item_category_id\"))\n",
        "# table_max[c(1,3)]"
      ]
    },
    {
      "cell_type": "markdown",
      "metadata": {
        "id": "a99rnQRwKLLR"
      },
      "source": [
        "# Задание 3"
      ]
    },
    {
      "cell_type": "markdown",
      "metadata": {
        "id": "sxh1WWITKLLS"
      },
      "source": [
        "1. Для категорий из задания 2 найдите среднее количество продаж каждого товара категории в 5 магазинах с наибольшими продажами.\n",
        "2. Найдите месяцы с минимальными и максимальными продажами для каждого товара из пункта 1.\n"
      ]
    },
    {
      "cell_type": "code",
      "execution_count": null,
      "metadata": {
        "colab": {
          "base_uri": "https://localhost:8080/",
          "height": 1000
        },
        "id": "Go9R8qxjANdp",
        "outputId": "143457b6-24a0-4bd9-b5a8-52d42fe1775b"
      },
      "outputs": [
        {
          "data": {
            "text/html": [
              "<table class=\"dataframe\">\n",
              "<caption>A data.frame: 4714 × 2</caption>\n",
              "<thead>\n",
              "\t<tr><th scope=col>item_id</th><th scope=col>item_cnt_day</th></tr>\n",
              "\t<tr><th scope=col>&lt;int&gt;</th><th scope=col>&lt;dbl&gt;</th></tr>\n",
              "</thead>\n",
              "<tbody>\n",
              "\t<tr><td> 0</td><td>1.000000</td></tr>\n",
              "\t<tr><td> 2</td><td>1.000000</td></tr>\n",
              "\t<tr><td> 3</td><td>1.000000</td></tr>\n",
              "\t<tr><td> 4</td><td>1.000000</td></tr>\n",
              "\t<tr><td> 5</td><td>1.000000</td></tr>\n",
              "\t<tr><td> 6</td><td>1.000000</td></tr>\n",
              "\t<tr><td> 7</td><td>1.000000</td></tr>\n",
              "\t<tr><td> 8</td><td>1.000000</td></tr>\n",
              "\t<tr><td> 9</td><td>1.000000</td></tr>\n",
              "\t<tr><td>10</td><td>1.000000</td></tr>\n",
              "\t<tr><td>11</td><td>1.000000</td></tr>\n",
              "\t<tr><td>13</td><td>1.000000</td></tr>\n",
              "\t<tr><td>14</td><td>1.000000</td></tr>\n",
              "\t<tr><td>15</td><td>1.000000</td></tr>\n",
              "\t<tr><td>18</td><td>1.000000</td></tr>\n",
              "\t<tr><td>19</td><td>1.000000</td></tr>\n",
              "\t<tr><td>20</td><td>1.000000</td></tr>\n",
              "\t<tr><td>21</td><td>1.000000</td></tr>\n",
              "\t<tr><td>22</td><td>1.000000</td></tr>\n",
              "\t<tr><td>23</td><td>1.000000</td></tr>\n",
              "\t<tr><td>24</td><td>1.000000</td></tr>\n",
              "\t<tr><td>25</td><td>1.000000</td></tr>\n",
              "\t<tr><td>26</td><td>1.000000</td></tr>\n",
              "\t<tr><td>30</td><td>1.869565</td></tr>\n",
              "\t<tr><td>32</td><td>1.241431</td></tr>\n",
              "\t<tr><td>34</td><td>1.000000</td></tr>\n",
              "\t<tr><td>35</td><td>1.428571</td></tr>\n",
              "\t<tr><td>37</td><td>1.000000</td></tr>\n",
              "\t<tr><td>43</td><td>1.000000</td></tr>\n",
              "\t<tr><td>63</td><td>1.000000</td></tr>\n",
              "\t<tr><td>⋮</td><td>⋮</td></tr>\n",
              "\t<tr><td>22075</td><td>1.000000</td></tr>\n",
              "\t<tr><td>22108</td><td>1.000000</td></tr>\n",
              "\t<tr><td>22114</td><td>1.025641</td></tr>\n",
              "\t<tr><td>22116</td><td>1.000000</td></tr>\n",
              "\t<tr><td>22119</td><td>1.031250</td></tr>\n",
              "\t<tr><td>22120</td><td>1.000000</td></tr>\n",
              "\t<tr><td>22121</td><td>1.415385</td></tr>\n",
              "\t<tr><td>22123</td><td>1.000000</td></tr>\n",
              "\t<tr><td>22124</td><td>1.000000</td></tr>\n",
              "\t<tr><td>22126</td><td>1.328767</td></tr>\n",
              "\t<tr><td>22128</td><td>1.000000</td></tr>\n",
              "\t<tr><td>22129</td><td>1.000000</td></tr>\n",
              "\t<tr><td>22130</td><td>1.455556</td></tr>\n",
              "\t<tr><td>22132</td><td>1.022727</td></tr>\n",
              "\t<tr><td>22133</td><td>1.000000</td></tr>\n",
              "\t<tr><td>22134</td><td>1.377778</td></tr>\n",
              "\t<tr><td>22136</td><td>1.000000</td></tr>\n",
              "\t<tr><td>22141</td><td>1.148148</td></tr>\n",
              "\t<tr><td>22143</td><td>1.644578</td></tr>\n",
              "\t<tr><td>22147</td><td>1.000000</td></tr>\n",
              "\t<tr><td>22148</td><td>1.000000</td></tr>\n",
              "\t<tr><td>22149</td><td>1.000000</td></tr>\n",
              "\t<tr><td>22151</td><td>1.540000</td></tr>\n",
              "\t<tr><td>22152</td><td>1.000000</td></tr>\n",
              "\t<tr><td>22156</td><td>1.000000</td></tr>\n",
              "\t<tr><td>22157</td><td>1.000000</td></tr>\n",
              "\t<tr><td>22159</td><td>1.142857</td></tr>\n",
              "\t<tr><td>22160</td><td>1.000000</td></tr>\n",
              "\t<tr><td>22162</td><td>1.481283</td></tr>\n",
              "\t<tr><td>22163</td><td>1.114286</td></tr>\n",
              "</tbody>\n",
              "</table>\n"
            ],
            "text/latex": "A data.frame: 4714 × 2\n\\begin{tabular}{ll}\n item\\_id & item\\_cnt\\_day\\\\\n <int> & <dbl>\\\\\n\\hline\n\t  0 & 1.000000\\\\\n\t  2 & 1.000000\\\\\n\t  3 & 1.000000\\\\\n\t  4 & 1.000000\\\\\n\t  5 & 1.000000\\\\\n\t  6 & 1.000000\\\\\n\t  7 & 1.000000\\\\\n\t  8 & 1.000000\\\\\n\t  9 & 1.000000\\\\\n\t 10 & 1.000000\\\\\n\t 11 & 1.000000\\\\\n\t 13 & 1.000000\\\\\n\t 14 & 1.000000\\\\\n\t 15 & 1.000000\\\\\n\t 18 & 1.000000\\\\\n\t 19 & 1.000000\\\\\n\t 20 & 1.000000\\\\\n\t 21 & 1.000000\\\\\n\t 22 & 1.000000\\\\\n\t 23 & 1.000000\\\\\n\t 24 & 1.000000\\\\\n\t 25 & 1.000000\\\\\n\t 26 & 1.000000\\\\\n\t 30 & 1.869565\\\\\n\t 32 & 1.241431\\\\\n\t 34 & 1.000000\\\\\n\t 35 & 1.428571\\\\\n\t 37 & 1.000000\\\\\n\t 43 & 1.000000\\\\\n\t 63 & 1.000000\\\\\n\t ⋮ & ⋮\\\\\n\t 22075 & 1.000000\\\\\n\t 22108 & 1.000000\\\\\n\t 22114 & 1.025641\\\\\n\t 22116 & 1.000000\\\\\n\t 22119 & 1.031250\\\\\n\t 22120 & 1.000000\\\\\n\t 22121 & 1.415385\\\\\n\t 22123 & 1.000000\\\\\n\t 22124 & 1.000000\\\\\n\t 22126 & 1.328767\\\\\n\t 22128 & 1.000000\\\\\n\t 22129 & 1.000000\\\\\n\t 22130 & 1.455556\\\\\n\t 22132 & 1.022727\\\\\n\t 22133 & 1.000000\\\\\n\t 22134 & 1.377778\\\\\n\t 22136 & 1.000000\\\\\n\t 22141 & 1.148148\\\\\n\t 22143 & 1.644578\\\\\n\t 22147 & 1.000000\\\\\n\t 22148 & 1.000000\\\\\n\t 22149 & 1.000000\\\\\n\t 22151 & 1.540000\\\\\n\t 22152 & 1.000000\\\\\n\t 22156 & 1.000000\\\\\n\t 22157 & 1.000000\\\\\n\t 22159 & 1.142857\\\\\n\t 22160 & 1.000000\\\\\n\t 22162 & 1.481283\\\\\n\t 22163 & 1.114286\\\\\n\\end{tabular}\n",
            "text/markdown": "\nA data.frame: 4714 × 2\n\n| item_id &lt;int&gt; | item_cnt_day &lt;dbl&gt; |\n|---|---|\n|  0 | 1.000000 |\n|  2 | 1.000000 |\n|  3 | 1.000000 |\n|  4 | 1.000000 |\n|  5 | 1.000000 |\n|  6 | 1.000000 |\n|  7 | 1.000000 |\n|  8 | 1.000000 |\n|  9 | 1.000000 |\n| 10 | 1.000000 |\n| 11 | 1.000000 |\n| 13 | 1.000000 |\n| 14 | 1.000000 |\n| 15 | 1.000000 |\n| 18 | 1.000000 |\n| 19 | 1.000000 |\n| 20 | 1.000000 |\n| 21 | 1.000000 |\n| 22 | 1.000000 |\n| 23 | 1.000000 |\n| 24 | 1.000000 |\n| 25 | 1.000000 |\n| 26 | 1.000000 |\n| 30 | 1.869565 |\n| 32 | 1.241431 |\n| 34 | 1.000000 |\n| 35 | 1.428571 |\n| 37 | 1.000000 |\n| 43 | 1.000000 |\n| 63 | 1.000000 |\n| ⋮ | ⋮ |\n| 22075 | 1.000000 |\n| 22108 | 1.000000 |\n| 22114 | 1.025641 |\n| 22116 | 1.000000 |\n| 22119 | 1.031250 |\n| 22120 | 1.000000 |\n| 22121 | 1.415385 |\n| 22123 | 1.000000 |\n| 22124 | 1.000000 |\n| 22126 | 1.328767 |\n| 22128 | 1.000000 |\n| 22129 | 1.000000 |\n| 22130 | 1.455556 |\n| 22132 | 1.022727 |\n| 22133 | 1.000000 |\n| 22134 | 1.377778 |\n| 22136 | 1.000000 |\n| 22141 | 1.148148 |\n| 22143 | 1.644578 |\n| 22147 | 1.000000 |\n| 22148 | 1.000000 |\n| 22149 | 1.000000 |\n| 22151 | 1.540000 |\n| 22152 | 1.000000 |\n| 22156 | 1.000000 |\n| 22157 | 1.000000 |\n| 22159 | 1.142857 |\n| 22160 | 1.000000 |\n| 22162 | 1.481283 |\n| 22163 | 1.114286 |\n\n",
            "text/plain": [
              "     item_id item_cnt_day\n",
              "1     0      1.000000    \n",
              "2     2      1.000000    \n",
              "3     3      1.000000    \n",
              "4     4      1.000000    \n",
              "5     5      1.000000    \n",
              "6     6      1.000000    \n",
              "7     7      1.000000    \n",
              "8     8      1.000000    \n",
              "9     9      1.000000    \n",
              "10   10      1.000000    \n",
              "11   11      1.000000    \n",
              "12   13      1.000000    \n",
              "13   14      1.000000    \n",
              "14   15      1.000000    \n",
              "15   18      1.000000    \n",
              "16   19      1.000000    \n",
              "17   20      1.000000    \n",
              "18   21      1.000000    \n",
              "19   22      1.000000    \n",
              "20   23      1.000000    \n",
              "21   24      1.000000    \n",
              "22   25      1.000000    \n",
              "23   26      1.000000    \n",
              "24   30      1.869565    \n",
              "25   32      1.241431    \n",
              "26   34      1.000000    \n",
              "27   35      1.428571    \n",
              "28   37      1.000000    \n",
              "29   43      1.000000    \n",
              "30   63      1.000000    \n",
              "⋮    ⋮       ⋮           \n",
              "4685 22075   1.000000    \n",
              "4686 22108   1.000000    \n",
              "4687 22114   1.025641    \n",
              "4688 22116   1.000000    \n",
              "4689 22119   1.031250    \n",
              "4690 22120   1.000000    \n",
              "4691 22121   1.415385    \n",
              "4692 22123   1.000000    \n",
              "4693 22124   1.000000    \n",
              "4694 22126   1.328767    \n",
              "4695 22128   1.000000    \n",
              "4696 22129   1.000000    \n",
              "4697 22130   1.455556    \n",
              "4698 22132   1.022727    \n",
              "4699 22133   1.000000    \n",
              "4700 22134   1.377778    \n",
              "4701 22136   1.000000    \n",
              "4702 22141   1.148148    \n",
              "4703 22143   1.644578    \n",
              "4704 22147   1.000000    \n",
              "4705 22148   1.000000    \n",
              "4706 22149   1.000000    \n",
              "4707 22151   1.540000    \n",
              "4708 22152   1.000000    \n",
              "4709 22156   1.000000    \n",
              "4710 22157   1.000000    \n",
              "4711 22159   1.142857    \n",
              "4712 22160   1.000000    \n",
              "4713 22162   1.481283    \n",
              "4714 22163   1.114286    "
            ]
          },
          "metadata": {},
          "output_type": "display_data"
        }
      ],
      "source": [
        "#пункт 1, категория 40\n",
        "library(dplyr)\n",
        "sales_train<-read.csv(\"sales_train.csv\", header = TRUE)\n",
        "items<-read.csv(\"items.csv\", header = TRUE)\n",
        "item_categories<-read.csv(\"item_categories.csv\", header = TRUE)\n",
        "\n",
        "sales_train_1<-merge(x=sales_train,y=items,all.x=TRUE)\n",
        "#найдём топ-5 магазинов\n",
        "shop_top<-aggregate(sales_train$item_cnt_day, by=list(sales_train$shop_id), FUN=sum)\n",
        "colnames(shop_top) <- c(\"shop_id\",\"item_cnt_day\")\n",
        "\n",
        "shop_top_5<-head(shop_top[order(shop_top$item_cnt_day,decreasing=TRUE),],n=5)\n",
        "#оставим только записи из топ-5 магазинов и нужную категорию\n",
        "shop_table<-filter(sales_train_1,shop_id==31 | shop_id==25 | shop_id==54 | shop_id==28 | shop_id==42)\n",
        "shop_table_stat<-filter(shop_table,category_id==40)\n",
        "\n",
        "\n",
        "shop_table_mean<-aggregate(shop_table_stat$item_cnt_day, by=list(shop_table_stat$item_id), FUN=mean)\n",
        "colnames(shop_table_mean) <- c(\"item_id\",\"item_cnt_day\")\n",
        "shop_table_mean\n",
        "\n"
      ]
    },
    {
      "cell_type": "code",
      "execution_count": null,
      "metadata": {
        "colab": {
          "base_uri": "https://localhost:8080/",
          "height": 98
        },
        "id": "qTtCU4zDNpr7",
        "outputId": "927475e1-2020-4084-b643-f9fa4ca5fb14"
      },
      "outputs": [
        {
          "data": {
            "text/html": [
              "<table class=\"dataframe\">\n",
              "<caption>A data.frame: 0 × 8</caption>\n",
              "<thead>\n",
              "\t<tr><th scope=col>item_id</th><th scope=col>date</th><th scope=col>date_block_num</th><th scope=col>shop_id</th><th scope=col>item_price</th><th scope=col>item_cnt_day</th><th scope=col>item_name</th><th scope=col>category_id</th></tr>\n",
              "\t<tr><th scope=col>&lt;int&gt;</th><th scope=col>&lt;chr&gt;</th><th scope=col>&lt;int&gt;</th><th scope=col>&lt;int&gt;</th><th scope=col>&lt;dbl&gt;</th><th scope=col>&lt;dbl&gt;</th><th scope=col>&lt;chr&gt;</th><th scope=col>&lt;int&gt;</th></tr>\n",
              "</thead>\n",
              "<tbody>\n",
              "</tbody>\n",
              "</table>\n"
            ],
            "text/latex": "A data.frame: 0 × 8\n\\begin{tabular}{llllllll}\n item\\_id & date & date\\_block\\_num & shop\\_id & item\\_price & item\\_cnt\\_day & item\\_name & category\\_id\\\\\n <int> & <chr> & <int> & <int> & <dbl> & <dbl> & <chr> & <int>\\\\\n\\hline\n\\end{tabular}\n",
            "text/markdown": "\nA data.frame: 0 × 8\n\n| item_id &lt;int&gt; | date &lt;chr&gt; | date_block_num &lt;int&gt; | shop_id &lt;int&gt; | item_price &lt;dbl&gt; | item_cnt_day &lt;dbl&gt; | item_name &lt;chr&gt; | category_id &lt;int&gt; |\n|---|---|---|---|---|---|---|---|\n\n",
            "text/plain": [
              "     item_id date date_block_num shop_id item_price item_cnt_day item_name\n",
              "     category_id"
            ]
          },
          "metadata": {},
          "output_type": "display_data"
        }
      ],
      "source": [
        "#пункт 1, категория 10\n",
        "library(dplyr)\n",
        "sales_train<-read.csv(\"sales_train.csv\", header = TRUE)\n",
        "items<-read.csv(\"items.csv\", header = TRUE)\n",
        "item_categories<-read.csv(\"item_categories.csv\", header = TRUE)\n",
        "\n",
        "sales_train_1<-merge(x=sales_train,y=items,all.x=TRUE)\n",
        "#найдём топ-5 магазинов\n",
        "shop_top<-aggregate(sales_train$item_cnt_day, by=list(sales_train$shop_id), FUN=sum)\n",
        "colnames(shop_top) <- c(\"shop_id\",\"item_cnt_day\")\n",
        "\n",
        "shop_top_5<-head(shop_top[order(shop_top$item_cnt_day,decreasing=TRUE),],n=5)\n",
        "#оставим только записи из топ-5 магазинов и нужную категорию\n",
        "shop_table<-filter(sales_train_1,shop_id==31 | shop_id==25 | shop_id==54 | shop_id==28 | shop_id==42)\n",
        "shop_table_stat<-filter(shop_table,category_id==10)\n",
        "\n",
        "shop_table_stat\n",
        "\n",
        "# shop_table_mean<-aggregate(shop_table_stat$item_cnt_day, by=list(shop_table_stat$item_id), FUN=mean)\n",
        "# colnames(shop_table_mean) <- c(\"item_id\",\"item_cnt_day\")\n",
        "# shop_table_mean\n"
      ]
    },
    {
      "cell_type": "code",
      "execution_count": null,
      "metadata": {
        "colab": {
          "base_uri": "https://localhost:8080/",
          "height": 98
        },
        "id": "JlYXu2ccNu29",
        "outputId": "56e9d4ac-ef88-4497-b2c6-820421193f0f"
      },
      "outputs": [
        {
          "data": {
            "text/html": [
              "<table class=\"dataframe\">\n",
              "<caption>A data.frame: 0 × 8</caption>\n",
              "<thead>\n",
              "\t<tr><th scope=col>item_id</th><th scope=col>date</th><th scope=col>date_block_num</th><th scope=col>shop_id</th><th scope=col>item_price</th><th scope=col>item_cnt_day</th><th scope=col>item_name</th><th scope=col>category_id</th></tr>\n",
              "\t<tr><th scope=col>&lt;int&gt;</th><th scope=col>&lt;chr&gt;</th><th scope=col>&lt;int&gt;</th><th scope=col>&lt;int&gt;</th><th scope=col>&lt;dbl&gt;</th><th scope=col>&lt;dbl&gt;</th><th scope=col>&lt;chr&gt;</th><th scope=col>&lt;int&gt;</th></tr>\n",
              "</thead>\n",
              "<tbody>\n",
              "</tbody>\n",
              "</table>\n"
            ],
            "text/latex": "A data.frame: 0 × 8\n\\begin{tabular}{llllllll}\n item\\_id & date & date\\_block\\_num & shop\\_id & item\\_price & item\\_cnt\\_day & item\\_name & category\\_id\\\\\n <int> & <chr> & <int> & <int> & <dbl> & <dbl> & <chr> & <int>\\\\\n\\hline\n\\end{tabular}\n",
            "text/markdown": "\nA data.frame: 0 × 8\n\n| item_id &lt;int&gt; | date &lt;chr&gt; | date_block_num &lt;int&gt; | shop_id &lt;int&gt; | item_price &lt;dbl&gt; | item_cnt_day &lt;dbl&gt; | item_name &lt;chr&gt; | category_id &lt;int&gt; |\n|---|---|---|---|---|---|---|---|\n\n",
            "text/plain": [
              "     item_id date date_block_num shop_id item_price item_cnt_day item_name\n",
              "     category_id"
            ]
          },
          "metadata": {},
          "output_type": "display_data"
        }
      ],
      "source": [
        "#пункт 1, категория 51\n",
        "library(dplyr)\n",
        "sales_train<-read.csv(\"sales_train.csv\", header = TRUE)\n",
        "items<-read.csv(\"items.csv\", header = TRUE)\n",
        "item_categories<-read.csv(\"item_categories.csv\", header = TRUE)\n",
        "\n",
        "sales_train_1<-merge(x=sales_train,y=items,all.x=TRUE)\n",
        "#найдём топ-5 магазинов\n",
        "shop_top<-aggregate(sales_train$item_cnt_day, by=list(sales_train$shop_id), FUN=sum)\n",
        "colnames(shop_top) <- c(\"shop_id\",\"item_cnt_day\")\n",
        "shop_top_5<-head(shop_top[order(shop_top$item_cnt_day,decreasing=TRUE),],n=5)\n",
        "\n",
        "#оставим только записи из топ-5 магазинов и нужную категорию\n",
        "shop_table<-filter(sales_train_1,shop_id==31 | shop_id==25 | shop_id==54 | shop_id==28 | shop_id==42)\n",
        "shop_table_stat<-filter(shop_table,category_id==51)\n",
        "shop_table_stat\n",
        "\n",
        "# shop_table_mean<-aggregate(shop_table_stat$item_cnt_day, by=list(shop_table_stat$item_id), FUN=mean)\n",
        "# colnames(shop_table_mean) <- c(\"item_id\",\"item_cnt_day\")\n",
        "# shop_table_mean\n"
      ]
    },
    {
      "cell_type": "code",
      "execution_count": null,
      "metadata": {
        "colab": {
          "base_uri": "https://localhost:8080/",
          "height": 1000
        },
        "id": "DdnxhtTGOOsc",
        "outputId": "c06dd19b-f80d-45cb-d446-de71f827a6e6"
      },
      "outputs": [
        {
          "data": {
            "text/html": [
              "<table class=\"dataframe\">\n",
              "<caption>A data.frame: 4714 × 2</caption>\n",
              "<thead>\n",
              "\t<tr><th scope=col>item_id</th><th scope=col>date_block_num</th></tr>\n",
              "\t<tr><th scope=col>&lt;int&gt;</th><th scope=col>&lt;int&gt;</th></tr>\n",
              "</thead>\n",
              "<tbody>\n",
              "\t<tr><td> 0</td><td>20</td></tr>\n",
              "\t<tr><td> 2</td><td>19</td></tr>\n",
              "\t<tr><td> 3</td><td>18</td></tr>\n",
              "\t<tr><td> 4</td><td>20</td></tr>\n",
              "\t<tr><td> 5</td><td>23</td></tr>\n",
              "\t<tr><td> 6</td><td>18</td></tr>\n",
              "\t<tr><td> 7</td><td>23</td></tr>\n",
              "\t<tr><td> 8</td><td>19</td></tr>\n",
              "\t<tr><td> 9</td><td>19</td></tr>\n",
              "\t<tr><td>10</td><td>24</td></tr>\n",
              "\t<tr><td>11</td><td>22</td></tr>\n",
              "\t<tr><td>13</td><td>20</td></tr>\n",
              "\t<tr><td>14</td><td>23</td></tr>\n",
              "\t<tr><td>15</td><td>22</td></tr>\n",
              "\t<tr><td>18</td><td>19</td></tr>\n",
              "\t<tr><td>19</td><td> 0</td></tr>\n",
              "\t<tr><td>20</td><td>19</td></tr>\n",
              "\t<tr><td>21</td><td>20</td></tr>\n",
              "\t<tr><td>22</td><td>27</td></tr>\n",
              "\t<tr><td>23</td><td>25</td></tr>\n",
              "\t<tr><td>24</td><td>27</td></tr>\n",
              "\t<tr><td>25</td><td>19</td></tr>\n",
              "\t<tr><td>26</td><td>21</td></tr>\n",
              "\t<tr><td>30</td><td> 1</td></tr>\n",
              "\t<tr><td>32</td><td> 0</td></tr>\n",
              "\t<tr><td>34</td><td> 0</td></tr>\n",
              "\t<tr><td>35</td><td> 0</td></tr>\n",
              "\t<tr><td>37</td><td> 2</td></tr>\n",
              "\t<tr><td>43</td><td> 0</td></tr>\n",
              "\t<tr><td>63</td><td> 2</td></tr>\n",
              "\t<tr><td>⋮</td><td>⋮</td></tr>\n",
              "\t<tr><td>22075</td><td> 0</td></tr>\n",
              "\t<tr><td>22108</td><td> 2</td></tr>\n",
              "\t<tr><td>22114</td><td> 3</td></tr>\n",
              "\t<tr><td>22116</td><td> 2</td></tr>\n",
              "\t<tr><td>22119</td><td> 1</td></tr>\n",
              "\t<tr><td>22120</td><td> 3</td></tr>\n",
              "\t<tr><td>22121</td><td> 6</td></tr>\n",
              "\t<tr><td>22123</td><td> 9</td></tr>\n",
              "\t<tr><td>22124</td><td> 0</td></tr>\n",
              "\t<tr><td>22126</td><td> 9</td></tr>\n",
              "\t<tr><td>22128</td><td> 0</td></tr>\n",
              "\t<tr><td>22129</td><td> 0</td></tr>\n",
              "\t<tr><td>22130</td><td> 0</td></tr>\n",
              "\t<tr><td>22132</td><td> 2</td></tr>\n",
              "\t<tr><td>22133</td><td>13</td></tr>\n",
              "\t<tr><td>22134</td><td> 0</td></tr>\n",
              "\t<tr><td>22136</td><td> 2</td></tr>\n",
              "\t<tr><td>22141</td><td>13</td></tr>\n",
              "\t<tr><td>22143</td><td>14</td></tr>\n",
              "\t<tr><td>22147</td><td> 0</td></tr>\n",
              "\t<tr><td>22148</td><td> 6</td></tr>\n",
              "\t<tr><td>22149</td><td> 0</td></tr>\n",
              "\t<tr><td>22151</td><td> 0</td></tr>\n",
              "\t<tr><td>22152</td><td> 2</td></tr>\n",
              "\t<tr><td>22156</td><td> 4</td></tr>\n",
              "\t<tr><td>22157</td><td> 4</td></tr>\n",
              "\t<tr><td>22159</td><td>28</td></tr>\n",
              "\t<tr><td>22160</td><td> 0</td></tr>\n",
              "\t<tr><td>22162</td><td>25</td></tr>\n",
              "\t<tr><td>22163</td><td>31</td></tr>\n",
              "</tbody>\n",
              "</table>\n"
            ],
            "text/latex": "A data.frame: 4714 × 2\n\\begin{tabular}{ll}\n item\\_id & date\\_block\\_num\\\\\n <int> & <int>\\\\\n\\hline\n\t  0 & 20\\\\\n\t  2 & 19\\\\\n\t  3 & 18\\\\\n\t  4 & 20\\\\\n\t  5 & 23\\\\\n\t  6 & 18\\\\\n\t  7 & 23\\\\\n\t  8 & 19\\\\\n\t  9 & 19\\\\\n\t 10 & 24\\\\\n\t 11 & 22\\\\\n\t 13 & 20\\\\\n\t 14 & 23\\\\\n\t 15 & 22\\\\\n\t 18 & 19\\\\\n\t 19 &  0\\\\\n\t 20 & 19\\\\\n\t 21 & 20\\\\\n\t 22 & 27\\\\\n\t 23 & 25\\\\\n\t 24 & 27\\\\\n\t 25 & 19\\\\\n\t 26 & 21\\\\\n\t 30 &  1\\\\\n\t 32 &  0\\\\\n\t 34 &  0\\\\\n\t 35 &  0\\\\\n\t 37 &  2\\\\\n\t 43 &  0\\\\\n\t 63 &  2\\\\\n\t ⋮ & ⋮\\\\\n\t 22075 &  0\\\\\n\t 22108 &  2\\\\\n\t 22114 &  3\\\\\n\t 22116 &  2\\\\\n\t 22119 &  1\\\\\n\t 22120 &  3\\\\\n\t 22121 &  6\\\\\n\t 22123 &  9\\\\\n\t 22124 &  0\\\\\n\t 22126 &  9\\\\\n\t 22128 &  0\\\\\n\t 22129 &  0\\\\\n\t 22130 &  0\\\\\n\t 22132 &  2\\\\\n\t 22133 & 13\\\\\n\t 22134 &  0\\\\\n\t 22136 &  2\\\\\n\t 22141 & 13\\\\\n\t 22143 & 14\\\\\n\t 22147 &  0\\\\\n\t 22148 &  6\\\\\n\t 22149 &  0\\\\\n\t 22151 &  0\\\\\n\t 22152 &  2\\\\\n\t 22156 &  4\\\\\n\t 22157 &  4\\\\\n\t 22159 & 28\\\\\n\t 22160 &  0\\\\\n\t 22162 & 25\\\\\n\t 22163 & 31\\\\\n\\end{tabular}\n",
            "text/markdown": "\nA data.frame: 4714 × 2\n\n| item_id &lt;int&gt; | date_block_num &lt;int&gt; |\n|---|---|\n|  0 | 20 |\n|  2 | 19 |\n|  3 | 18 |\n|  4 | 20 |\n|  5 | 23 |\n|  6 | 18 |\n|  7 | 23 |\n|  8 | 19 |\n|  9 | 19 |\n| 10 | 24 |\n| 11 | 22 |\n| 13 | 20 |\n| 14 | 23 |\n| 15 | 22 |\n| 18 | 19 |\n| 19 |  0 |\n| 20 | 19 |\n| 21 | 20 |\n| 22 | 27 |\n| 23 | 25 |\n| 24 | 27 |\n| 25 | 19 |\n| 26 | 21 |\n| 30 |  1 |\n| 32 |  0 |\n| 34 |  0 |\n| 35 |  0 |\n| 37 |  2 |\n| 43 |  0 |\n| 63 |  2 |\n| ⋮ | ⋮ |\n| 22075 |  0 |\n| 22108 |  2 |\n| 22114 |  3 |\n| 22116 |  2 |\n| 22119 |  1 |\n| 22120 |  3 |\n| 22121 |  6 |\n| 22123 |  9 |\n| 22124 |  0 |\n| 22126 |  9 |\n| 22128 |  0 |\n| 22129 |  0 |\n| 22130 |  0 |\n| 22132 |  2 |\n| 22133 | 13 |\n| 22134 |  0 |\n| 22136 |  2 |\n| 22141 | 13 |\n| 22143 | 14 |\n| 22147 |  0 |\n| 22148 |  6 |\n| 22149 |  0 |\n| 22151 |  0 |\n| 22152 |  2 |\n| 22156 |  4 |\n| 22157 |  4 |\n| 22159 | 28 |\n| 22160 |  0 |\n| 22162 | 25 |\n| 22163 | 31 |\n\n",
            "text/plain": [
              "     item_id date_block_num\n",
              "1     0      20            \n",
              "2     2      19            \n",
              "3     3      18            \n",
              "4     4      20            \n",
              "5     5      23            \n",
              "6     6      18            \n",
              "7     7      23            \n",
              "8     8      19            \n",
              "9     9      19            \n",
              "10   10      24            \n",
              "11   11      22            \n",
              "12   13      20            \n",
              "13   14      23            \n",
              "14   15      22            \n",
              "15   18      19            \n",
              "16   19       0            \n",
              "17   20      19            \n",
              "18   21      20            \n",
              "19   22      27            \n",
              "20   23      25            \n",
              "21   24      27            \n",
              "22   25      19            \n",
              "23   26      21            \n",
              "24   30       1            \n",
              "25   32       0            \n",
              "26   34       0            \n",
              "27   35       0            \n",
              "28   37       2            \n",
              "29   43       0            \n",
              "30   63       2            \n",
              "⋮    ⋮       ⋮             \n",
              "4685 22075    0            \n",
              "4686 22108    2            \n",
              "4687 22114    3            \n",
              "4688 22116    2            \n",
              "4689 22119    1            \n",
              "4690 22120    3            \n",
              "4691 22121    6            \n",
              "4692 22123    9            \n",
              "4693 22124    0            \n",
              "4694 22126    9            \n",
              "4695 22128    0            \n",
              "4696 22129    0            \n",
              "4697 22130    0            \n",
              "4698 22132    2            \n",
              "4699 22133   13            \n",
              "4700 22134    0            \n",
              "4701 22136    2            \n",
              "4702 22141   13            \n",
              "4703 22143   14            \n",
              "4704 22147    0            \n",
              "4705 22148    6            \n",
              "4706 22149    0            \n",
              "4707 22151    0            \n",
              "4708 22152    2            \n",
              "4709 22156    4            \n",
              "4710 22157    4            \n",
              "4711 22159   28            \n",
              "4712 22160    0            \n",
              "4713 22162   25            \n",
              "4714 22163   31            "
            ]
          },
          "metadata": {},
          "output_type": "display_data"
        }
      ],
      "source": [
        "#пункт 2 min\n",
        "sales_train_1<-merge(x=sales_train,y=items,all.x=TRUE)\n",
        "#найдём топ-5 магазинов\n",
        "shop_top<-aggregate(sales_train$item_cnt_day, by=list(sales_train$shop_id), FUN=sum)\n",
        "colnames(shop_top) <- c(\"shop_id\",\"item_cnt_day\")\n",
        "shop_top_5<-head(shop_top[order(shop_top$item_cnt_day,decreasing=TRUE),],n=5)\n",
        "#оставляем только нужные записи (топ-5 магазинов и категории)\n",
        "shop_table<-filter(sales_train_1,shop_id==31 | shop_id==25 | shop_id==54 | shop_id==28 | shop_id==42)\n",
        "shop_table_stat<-filter(shop_table,category_id==51|category_id==10|category_id==40)\n",
        "\n",
        "shop_table_min<-aggregate(shop_table_stat$date_block_num, by=list(shop_table_stat$item_id), FUN=min)\n",
        "colnames(shop_table_min) <- c(\"item_id\",\"date_block_num\")\n",
        "shop_table_min"
      ]
    },
    {
      "cell_type": "code",
      "execution_count": null,
      "metadata": {
        "colab": {
          "base_uri": "https://localhost:8080/",
          "height": 1000
        },
        "id": "4uypw8LESA-0",
        "outputId": "e9df47c0-a0d8-4d6f-b030-151680bdac9b"
      },
      "outputs": [
        {
          "data": {
            "text/html": [
              "<table class=\"dataframe\">\n",
              "<caption>A data.frame: 4714 × 2</caption>\n",
              "<thead>\n",
              "\t<tr><th scope=col>item_id</th><th scope=col>date_block_num</th></tr>\n",
              "\t<tr><th scope=col>&lt;int&gt;</th><th scope=col>&lt;int&gt;</th></tr>\n",
              "</thead>\n",
              "<tbody>\n",
              "\t<tr><td> 0</td><td>20</td></tr>\n",
              "\t<tr><td> 2</td><td>22</td></tr>\n",
              "\t<tr><td> 3</td><td>19</td></tr>\n",
              "\t<tr><td> 4</td><td>20</td></tr>\n",
              "\t<tr><td> 5</td><td>23</td></tr>\n",
              "\t<tr><td> 6</td><td>18</td></tr>\n",
              "\t<tr><td> 7</td><td>23</td></tr>\n",
              "\t<tr><td> 8</td><td>20</td></tr>\n",
              "\t<tr><td> 9</td><td>19</td></tr>\n",
              "\t<tr><td>10</td><td>24</td></tr>\n",
              "\t<tr><td>11</td><td>22</td></tr>\n",
              "\t<tr><td>13</td><td>20</td></tr>\n",
              "\t<tr><td>14</td><td>23</td></tr>\n",
              "\t<tr><td>15</td><td>22</td></tr>\n",
              "\t<tr><td>18</td><td>19</td></tr>\n",
              "\t<tr><td>19</td><td> 0</td></tr>\n",
              "\t<tr><td>20</td><td>19</td></tr>\n",
              "\t<tr><td>21</td><td>20</td></tr>\n",
              "\t<tr><td>22</td><td>27</td></tr>\n",
              "\t<tr><td>23</td><td>25</td></tr>\n",
              "\t<tr><td>24</td><td>27</td></tr>\n",
              "\t<tr><td>25</td><td>19</td></tr>\n",
              "\t<tr><td>26</td><td>21</td></tr>\n",
              "\t<tr><td>30</td><td>33</td></tr>\n",
              "\t<tr><td>32</td><td>33</td></tr>\n",
              "\t<tr><td>34</td><td>18</td></tr>\n",
              "\t<tr><td>35</td><td>14</td></tr>\n",
              "\t<tr><td>37</td><td>20</td></tr>\n",
              "\t<tr><td>43</td><td> 7</td></tr>\n",
              "\t<tr><td>63</td><td> 4</td></tr>\n",
              "\t<tr><td>⋮</td><td>⋮</td></tr>\n",
              "\t<tr><td>22075</td><td>11</td></tr>\n",
              "\t<tr><td>22108</td><td> 6</td></tr>\n",
              "\t<tr><td>22114</td><td>25</td></tr>\n",
              "\t<tr><td>22116</td><td>11</td></tr>\n",
              "\t<tr><td>22119</td><td>21</td></tr>\n",
              "\t<tr><td>22120</td><td>22</td></tr>\n",
              "\t<tr><td>22121</td><td>10</td></tr>\n",
              "\t<tr><td>22123</td><td>17</td></tr>\n",
              "\t<tr><td>22124</td><td> 3</td></tr>\n",
              "\t<tr><td>22126</td><td>19</td></tr>\n",
              "\t<tr><td>22128</td><td>10</td></tr>\n",
              "\t<tr><td>22129</td><td> 7</td></tr>\n",
              "\t<tr><td>22130</td><td> 2</td></tr>\n",
              "\t<tr><td>22132</td><td>16</td></tr>\n",
              "\t<tr><td>22133</td><td>26</td></tr>\n",
              "\t<tr><td>22134</td><td>14</td></tr>\n",
              "\t<tr><td>22136</td><td>17</td></tr>\n",
              "\t<tr><td>22141</td><td>16</td></tr>\n",
              "\t<tr><td>22143</td><td>22</td></tr>\n",
              "\t<tr><td>22147</td><td>11</td></tr>\n",
              "\t<tr><td>22148</td><td> 6</td></tr>\n",
              "\t<tr><td>22149</td><td>11</td></tr>\n",
              "\t<tr><td>22151</td><td> 4</td></tr>\n",
              "\t<tr><td>22152</td><td>13</td></tr>\n",
              "\t<tr><td>22156</td><td>12</td></tr>\n",
              "\t<tr><td>22157</td><td> 5</td></tr>\n",
              "\t<tr><td>22159</td><td>29</td></tr>\n",
              "\t<tr><td>22160</td><td> 8</td></tr>\n",
              "\t<tr><td>22162</td><td>33</td></tr>\n",
              "\t<tr><td>22163</td><td>33</td></tr>\n",
              "</tbody>\n",
              "</table>\n"
            ],
            "text/latex": "A data.frame: 4714 × 2\n\\begin{tabular}{ll}\n item\\_id & date\\_block\\_num\\\\\n <int> & <int>\\\\\n\\hline\n\t  0 & 20\\\\\n\t  2 & 22\\\\\n\t  3 & 19\\\\\n\t  4 & 20\\\\\n\t  5 & 23\\\\\n\t  6 & 18\\\\\n\t  7 & 23\\\\\n\t  8 & 20\\\\\n\t  9 & 19\\\\\n\t 10 & 24\\\\\n\t 11 & 22\\\\\n\t 13 & 20\\\\\n\t 14 & 23\\\\\n\t 15 & 22\\\\\n\t 18 & 19\\\\\n\t 19 &  0\\\\\n\t 20 & 19\\\\\n\t 21 & 20\\\\\n\t 22 & 27\\\\\n\t 23 & 25\\\\\n\t 24 & 27\\\\\n\t 25 & 19\\\\\n\t 26 & 21\\\\\n\t 30 & 33\\\\\n\t 32 & 33\\\\\n\t 34 & 18\\\\\n\t 35 & 14\\\\\n\t 37 & 20\\\\\n\t 43 &  7\\\\\n\t 63 &  4\\\\\n\t ⋮ & ⋮\\\\\n\t 22075 & 11\\\\\n\t 22108 &  6\\\\\n\t 22114 & 25\\\\\n\t 22116 & 11\\\\\n\t 22119 & 21\\\\\n\t 22120 & 22\\\\\n\t 22121 & 10\\\\\n\t 22123 & 17\\\\\n\t 22124 &  3\\\\\n\t 22126 & 19\\\\\n\t 22128 & 10\\\\\n\t 22129 &  7\\\\\n\t 22130 &  2\\\\\n\t 22132 & 16\\\\\n\t 22133 & 26\\\\\n\t 22134 & 14\\\\\n\t 22136 & 17\\\\\n\t 22141 & 16\\\\\n\t 22143 & 22\\\\\n\t 22147 & 11\\\\\n\t 22148 &  6\\\\\n\t 22149 & 11\\\\\n\t 22151 &  4\\\\\n\t 22152 & 13\\\\\n\t 22156 & 12\\\\\n\t 22157 &  5\\\\\n\t 22159 & 29\\\\\n\t 22160 &  8\\\\\n\t 22162 & 33\\\\\n\t 22163 & 33\\\\\n\\end{tabular}\n",
            "text/markdown": "\nA data.frame: 4714 × 2\n\n| item_id &lt;int&gt; | date_block_num &lt;int&gt; |\n|---|---|\n|  0 | 20 |\n|  2 | 22 |\n|  3 | 19 |\n|  4 | 20 |\n|  5 | 23 |\n|  6 | 18 |\n|  7 | 23 |\n|  8 | 20 |\n|  9 | 19 |\n| 10 | 24 |\n| 11 | 22 |\n| 13 | 20 |\n| 14 | 23 |\n| 15 | 22 |\n| 18 | 19 |\n| 19 |  0 |\n| 20 | 19 |\n| 21 | 20 |\n| 22 | 27 |\n| 23 | 25 |\n| 24 | 27 |\n| 25 | 19 |\n| 26 | 21 |\n| 30 | 33 |\n| 32 | 33 |\n| 34 | 18 |\n| 35 | 14 |\n| 37 | 20 |\n| 43 |  7 |\n| 63 |  4 |\n| ⋮ | ⋮ |\n| 22075 | 11 |\n| 22108 |  6 |\n| 22114 | 25 |\n| 22116 | 11 |\n| 22119 | 21 |\n| 22120 | 22 |\n| 22121 | 10 |\n| 22123 | 17 |\n| 22124 |  3 |\n| 22126 | 19 |\n| 22128 | 10 |\n| 22129 |  7 |\n| 22130 |  2 |\n| 22132 | 16 |\n| 22133 | 26 |\n| 22134 | 14 |\n| 22136 | 17 |\n| 22141 | 16 |\n| 22143 | 22 |\n| 22147 | 11 |\n| 22148 |  6 |\n| 22149 | 11 |\n| 22151 |  4 |\n| 22152 | 13 |\n| 22156 | 12 |\n| 22157 |  5 |\n| 22159 | 29 |\n| 22160 |  8 |\n| 22162 | 33 |\n| 22163 | 33 |\n\n",
            "text/plain": [
              "     item_id date_block_num\n",
              "1     0      20            \n",
              "2     2      22            \n",
              "3     3      19            \n",
              "4     4      20            \n",
              "5     5      23            \n",
              "6     6      18            \n",
              "7     7      23            \n",
              "8     8      20            \n",
              "9     9      19            \n",
              "10   10      24            \n",
              "11   11      22            \n",
              "12   13      20            \n",
              "13   14      23            \n",
              "14   15      22            \n",
              "15   18      19            \n",
              "16   19       0            \n",
              "17   20      19            \n",
              "18   21      20            \n",
              "19   22      27            \n",
              "20   23      25            \n",
              "21   24      27            \n",
              "22   25      19            \n",
              "23   26      21            \n",
              "24   30      33            \n",
              "25   32      33            \n",
              "26   34      18            \n",
              "27   35      14            \n",
              "28   37      20            \n",
              "29   43       7            \n",
              "30   63       4            \n",
              "⋮    ⋮       ⋮             \n",
              "4685 22075   11            \n",
              "4686 22108    6            \n",
              "4687 22114   25            \n",
              "4688 22116   11            \n",
              "4689 22119   21            \n",
              "4690 22120   22            \n",
              "4691 22121   10            \n",
              "4692 22123   17            \n",
              "4693 22124    3            \n",
              "4694 22126   19            \n",
              "4695 22128   10            \n",
              "4696 22129    7            \n",
              "4697 22130    2            \n",
              "4698 22132   16            \n",
              "4699 22133   26            \n",
              "4700 22134   14            \n",
              "4701 22136   17            \n",
              "4702 22141   16            \n",
              "4703 22143   22            \n",
              "4704 22147   11            \n",
              "4705 22148    6            \n",
              "4706 22149   11            \n",
              "4707 22151    4            \n",
              "4708 22152   13            \n",
              "4709 22156   12            \n",
              "4710 22157    5            \n",
              "4711 22159   29            \n",
              "4712 22160    8            \n",
              "4713 22162   33            \n",
              "4714 22163   33            "
            ]
          },
          "metadata": {},
          "output_type": "display_data"
        }
      ],
      "source": [
        "#пункт 2 max\n",
        "sales_train_1<-merge(x=sales_train,y=items,all.x=TRUE)\n",
        "#найдём топ-5 магазинов\n",
        "shop_top<-aggregate(sales_train$item_cnt_day, by=list(sales_train$shop_id), FUN=sum)\n",
        "colnames(shop_top) <- c(\"shop_id\",\"item_cnt_day\")\n",
        "shop_top_5<-head(shop_top[order(shop_top$item_cnt_day,decreasing=TRUE),],n=5)\n",
        "#оставляем только нужные записи (топ-5 магазинов и категории)\n",
        "shop_table<-filter(sales_train_1,shop_id==31 | shop_id==25 | shop_id==54 | shop_id==28 | shop_id==42)\n",
        "shop_table_stat<-filter(shop_table,category_id==51|category_id==10|category_id==40)\n",
        "\n",
        "shop_table_max<-aggregate(shop_table_stat$date_block_num, by=list(shop_table_stat$item_id), FUN=max)\n",
        "colnames(shop_table_max) <- c(\"item_id\",\"date_block_num\")\n",
        "shop_table_max"
      ]
    },
    {
      "cell_type": "code",
      "execution_count": null,
      "metadata": {
        "id": "dea0SS8RNZ0H"
      },
      "outputs": [],
      "source": [
        "# sales_train %>% group_by(shop_id) %>% tally()\n",
        "# shop_top<-sales_train %>% group_by(shop_id) %>% summarise(item_cnt_day = n())\n",
        "# shop_top\n",
        "\n",
        "#  df_2<-df_1[order(df_1$x, decreasing=TRUE),]"
      ]
    },
    {
      "cell_type": "markdown",
      "metadata": {
        "id": "d11G2DP4KLUy"
      },
      "source": [
        "# Задание 4"
      ]
    },
    {
      "cell_type": "markdown",
      "metadata": {
        "id": "RX3FC6lbKLUz"
      },
      "source": [
        "1. Для категорий из задания 2 найдите среднюю и медианную цену по категории в пределах каждого месяца.\n",
        "2. В каждом году найдите месяцы, в которых средняя цена меньше, чем в предыдущем и следующем месяце."
      ]
    },
    {
      "cell_type": "code",
      "execution_count": null,
      "metadata": {
        "colab": {
          "base_uri": "https://localhost:8080/",
          "height": 1000
        },
        "id": "5BHaZ0ERTnw4",
        "outputId": "c3f1a6b6-7226-4616-a40d-35e0e7462ddb"
      },
      "outputs": [
        {
          "data": {
            "text/html": [
              "<table class=\"dataframe\">\n",
              "<caption>A data.frame: 34 × 3</caption>\n",
              "<thead>\n",
              "\t<tr><th scope=col>date_block_num</th><th scope=col>mean_price</th><th scope=col>median_price</th></tr>\n",
              "\t<tr><th scope=col>&lt;int&gt;</th><th scope=col>&lt;dbl&gt;</th><th scope=col>&lt;dbl&gt;</th></tr>\n",
              "</thead>\n",
              "<tbody>\n",
              "\t<tr><td> 0</td><td>244.4859</td><td>199.00</td></tr>\n",
              "\t<tr><td> 1</td><td>252.1749</td><td>203.00</td></tr>\n",
              "\t<tr><td> 2</td><td>260.6450</td><td>231.00</td></tr>\n",
              "\t<tr><td> 3</td><td>254.8524</td><td>199.00</td></tr>\n",
              "\t<tr><td> 4</td><td>247.6276</td><td>199.00</td></tr>\n",
              "\t<tr><td> 5</td><td>245.8609</td><td>199.00</td></tr>\n",
              "\t<tr><td> 6</td><td>236.8121</td><td>149.00</td></tr>\n",
              "\t<tr><td> 7</td><td>234.4702</td><td>149.00</td></tr>\n",
              "\t<tr><td> 8</td><td>241.8186</td><td>198.00</td></tr>\n",
              "\t<tr><td> 9</td><td>247.5439</td><td>199.00</td></tr>\n",
              "\t<tr><td>10</td><td>253.2127</td><td>199.00</td></tr>\n",
              "\t<tr><td>11</td><td>257.7663</td><td>237.00</td></tr>\n",
              "\t<tr><td>12</td><td>252.9098</td><td>199.00</td></tr>\n",
              "\t<tr><td>13</td><td>261.2565</td><td>248.00</td></tr>\n",
              "\t<tr><td>14</td><td>262.4360</td><td>251.00</td></tr>\n",
              "\t<tr><td>15</td><td>268.4081</td><td>249.00</td></tr>\n",
              "\t<tr><td>16</td><td>254.3645</td><td>199.00</td></tr>\n",
              "\t<tr><td>17</td><td>255.1581</td><td>199.00</td></tr>\n",
              "\t<tr><td>18</td><td>257.3948</td><td>199.00</td></tr>\n",
              "\t<tr><td>19</td><td>264.0901</td><td>199.00</td></tr>\n",
              "\t<tr><td>20</td><td>265.3885</td><td>240.00</td></tr>\n",
              "\t<tr><td>21</td><td>263.7517</td><td>199.00</td></tr>\n",
              "\t<tr><td>22</td><td>264.0330</td><td>199.00</td></tr>\n",
              "\t<tr><td>23</td><td>261.9187</td><td>199.00</td></tr>\n",
              "\t<tr><td>24</td><td>263.2980</td><td>200.78</td></tr>\n",
              "\t<tr><td>25</td><td>256.3624</td><td>199.00</td></tr>\n",
              "\t<tr><td>26</td><td>258.1940</td><td>169.00</td></tr>\n",
              "\t<tr><td>27</td><td>281.6307</td><td>299.00</td></tr>\n",
              "\t<tr><td>28</td><td>286.5086</td><td>299.00</td></tr>\n",
              "\t<tr><td>29</td><td>279.1423</td><td>249.00</td></tr>\n",
              "\t<tr><td>30</td><td>273.2515</td><td>199.00</td></tr>\n",
              "\t<tr><td>31</td><td>273.2421</td><td>249.00</td></tr>\n",
              "\t<tr><td>32</td><td>279.3937</td><td>249.00</td></tr>\n",
              "\t<tr><td>33</td><td>281.0002</td><td>249.00</td></tr>\n",
              "</tbody>\n",
              "</table>\n"
            ],
            "text/latex": "A data.frame: 34 × 3\n\\begin{tabular}{lll}\n date\\_block\\_num & mean\\_price & median\\_price\\\\\n <int> & <dbl> & <dbl>\\\\\n\\hline\n\t  0 & 244.4859 & 199.00\\\\\n\t  1 & 252.1749 & 203.00\\\\\n\t  2 & 260.6450 & 231.00\\\\\n\t  3 & 254.8524 & 199.00\\\\\n\t  4 & 247.6276 & 199.00\\\\\n\t  5 & 245.8609 & 199.00\\\\\n\t  6 & 236.8121 & 149.00\\\\\n\t  7 & 234.4702 & 149.00\\\\\n\t  8 & 241.8186 & 198.00\\\\\n\t  9 & 247.5439 & 199.00\\\\\n\t 10 & 253.2127 & 199.00\\\\\n\t 11 & 257.7663 & 237.00\\\\\n\t 12 & 252.9098 & 199.00\\\\\n\t 13 & 261.2565 & 248.00\\\\\n\t 14 & 262.4360 & 251.00\\\\\n\t 15 & 268.4081 & 249.00\\\\\n\t 16 & 254.3645 & 199.00\\\\\n\t 17 & 255.1581 & 199.00\\\\\n\t 18 & 257.3948 & 199.00\\\\\n\t 19 & 264.0901 & 199.00\\\\\n\t 20 & 265.3885 & 240.00\\\\\n\t 21 & 263.7517 & 199.00\\\\\n\t 22 & 264.0330 & 199.00\\\\\n\t 23 & 261.9187 & 199.00\\\\\n\t 24 & 263.2980 & 200.78\\\\\n\t 25 & 256.3624 & 199.00\\\\\n\t 26 & 258.1940 & 169.00\\\\\n\t 27 & 281.6307 & 299.00\\\\\n\t 28 & 286.5086 & 299.00\\\\\n\t 29 & 279.1423 & 249.00\\\\\n\t 30 & 273.2515 & 199.00\\\\\n\t 31 & 273.2421 & 249.00\\\\\n\t 32 & 279.3937 & 249.00\\\\\n\t 33 & 281.0002 & 249.00\\\\\n\\end{tabular}\n",
            "text/markdown": "\nA data.frame: 34 × 3\n\n| date_block_num &lt;int&gt; | mean_price &lt;dbl&gt; | median_price &lt;dbl&gt; |\n|---|---|---|\n|  0 | 244.4859 | 199.00 |\n|  1 | 252.1749 | 203.00 |\n|  2 | 260.6450 | 231.00 |\n|  3 | 254.8524 | 199.00 |\n|  4 | 247.6276 | 199.00 |\n|  5 | 245.8609 | 199.00 |\n|  6 | 236.8121 | 149.00 |\n|  7 | 234.4702 | 149.00 |\n|  8 | 241.8186 | 198.00 |\n|  9 | 247.5439 | 199.00 |\n| 10 | 253.2127 | 199.00 |\n| 11 | 257.7663 | 237.00 |\n| 12 | 252.9098 | 199.00 |\n| 13 | 261.2565 | 248.00 |\n| 14 | 262.4360 | 251.00 |\n| 15 | 268.4081 | 249.00 |\n| 16 | 254.3645 | 199.00 |\n| 17 | 255.1581 | 199.00 |\n| 18 | 257.3948 | 199.00 |\n| 19 | 264.0901 | 199.00 |\n| 20 | 265.3885 | 240.00 |\n| 21 | 263.7517 | 199.00 |\n| 22 | 264.0330 | 199.00 |\n| 23 | 261.9187 | 199.00 |\n| 24 | 263.2980 | 200.78 |\n| 25 | 256.3624 | 199.00 |\n| 26 | 258.1940 | 169.00 |\n| 27 | 281.6307 | 299.00 |\n| 28 | 286.5086 | 299.00 |\n| 29 | 279.1423 | 249.00 |\n| 30 | 273.2515 | 199.00 |\n| 31 | 273.2421 | 249.00 |\n| 32 | 279.3937 | 249.00 |\n| 33 | 281.0002 | 249.00 |\n\n",
            "text/plain": [
              "   date_block_num mean_price median_price\n",
              "1   0             244.4859   199.00      \n",
              "2   1             252.1749   203.00      \n",
              "3   2             260.6450   231.00      \n",
              "4   3             254.8524   199.00      \n",
              "5   4             247.6276   199.00      \n",
              "6   5             245.8609   199.00      \n",
              "7   6             236.8121   149.00      \n",
              "8   7             234.4702   149.00      \n",
              "9   8             241.8186   198.00      \n",
              "10  9             247.5439   199.00      \n",
              "11 10             253.2127   199.00      \n",
              "12 11             257.7663   237.00      \n",
              "13 12             252.9098   199.00      \n",
              "14 13             261.2565   248.00      \n",
              "15 14             262.4360   251.00      \n",
              "16 15             268.4081   249.00      \n",
              "17 16             254.3645   199.00      \n",
              "18 17             255.1581   199.00      \n",
              "19 18             257.3948   199.00      \n",
              "20 19             264.0901   199.00      \n",
              "21 20             265.3885   240.00      \n",
              "22 21             263.7517   199.00      \n",
              "23 22             264.0330   199.00      \n",
              "24 23             261.9187   199.00      \n",
              "25 24             263.2980   200.78      \n",
              "26 25             256.3624   199.00      \n",
              "27 26             258.1940   169.00      \n",
              "28 27             281.6307   299.00      \n",
              "29 28             286.5086   299.00      \n",
              "30 29             279.1423   249.00      \n",
              "31 30             273.2515   199.00      \n",
              "32 31             273.2421   249.00      \n",
              "33 32             279.3937   249.00      \n",
              "34 33             281.0002   249.00      "
            ]
          },
          "metadata": {},
          "output_type": "display_data"
        }
      ],
      "source": [
        "#пункт 1 категория 40\n",
        "library(dplyr)\n",
        "sales_train<-read.csv(\"sales_train.csv\", header = TRUE)\n",
        "items<-read.csv(\"items.csv\", header = TRUE)\n",
        "item_categories<-read.csv(\"item_categories.csv\", header = TRUE)\n",
        "\n",
        "table<-merge(x=sales_train,y=items,all.x=TRUE)\n",
        "table<-filter(sales_train_1,category_id==40)\n",
        "\n",
        "table_mean<-aggregate(table$item_price, by=list(table$date_block_num), FUN=mean)\n",
        "colnames(table_mean) <- c(\"date_block_num\",\"mean_price\")\n",
        "\n",
        "table_median<-aggregate(table$item_price, by=list(table$date_block_num), FUN=median)\n",
        "colnames(table_median) <- c(\"date_block_num\",\"median_price\")\n",
        "\n",
        "table<-merge(x=table_mean, y=table_median,by=c(\"date_block_num\"))\n",
        "table"
      ]
    },
    {
      "cell_type": "code",
      "execution_count": null,
      "metadata": {
        "colab": {
          "base_uri": "https://localhost:8080/",
          "height": 129
        },
        "id": "NgI5r3fOZqo2",
        "outputId": "d49080d5-a7ae-4e32-a6ff-1b79359ae0a0"
      },
      "outputs": [
        {
          "data": {
            "text/html": [
              "<table class=\"dataframe\">\n",
              "<caption>A data.frame: 1 × 3</caption>\n",
              "<thead>\n",
              "\t<tr><th scope=col>date_block_num</th><th scope=col>mean_price</th><th scope=col>median_price</th></tr>\n",
              "\t<tr><th scope=col>&lt;int&gt;</th><th scope=col>&lt;dbl&gt;</th><th scope=col>&lt;dbl&gt;</th></tr>\n",
              "</thead>\n",
              "<tbody>\n",
              "\t<tr><td>3</td><td>1998</td><td>1998</td></tr>\n",
              "</tbody>\n",
              "</table>\n"
            ],
            "text/latex": "A data.frame: 1 × 3\n\\begin{tabular}{lll}\n date\\_block\\_num & mean\\_price & median\\_price\\\\\n <int> & <dbl> & <dbl>\\\\\n\\hline\n\t 3 & 1998 & 1998\\\\\n\\end{tabular}\n",
            "text/markdown": "\nA data.frame: 1 × 3\n\n| date_block_num &lt;int&gt; | mean_price &lt;dbl&gt; | median_price &lt;dbl&gt; |\n|---|---|---|\n| 3 | 1998 | 1998 |\n\n",
            "text/plain": [
              "  date_block_num mean_price median_price\n",
              "1 3              1998       1998        "
            ]
          },
          "metadata": {},
          "output_type": "display_data"
        }
      ],
      "source": [
        "#пункт 1 категория 10\n",
        "library(dplyr)\n",
        "sales_train<-read.csv(\"sales_train.csv\", header = TRUE)\n",
        "items<-read.csv(\"items.csv\", header = TRUE)\n",
        "item_categories<-read.csv(\"item_categories.csv\", header = TRUE)\n",
        "\n",
        "table<-merge(x=sales_train,y=items,all.x=TRUE)\n",
        "table<-filter(sales_train_1,category_id==10)\n",
        "\n",
        "table_mean<-aggregate(table$item_price, by=list(table$date_block_num), FUN=mean)\n",
        "colnames(table_mean) <- c(\"date_block_num\",\"mean_price\")\n",
        "\n",
        "table_median<-aggregate(table$item_price, by=list(table$date_block_num), FUN=median)\n",
        "colnames(table_median) <- c(\"date_block_num\",\"median_price\")\n",
        "\n",
        "table<-merge(x=table_mean, y=table_median,by=c(\"date_block_num\"))\n",
        "table"
      ]
    },
    {
      "cell_type": "code",
      "execution_count": null,
      "metadata": {
        "colab": {
          "base_uri": "https://localhost:8080/",
          "height": 129
        },
        "id": "3j3UTFO7Z7eH",
        "outputId": "6ccf3d3c-5046-4f41-fdd4-f348cce075eb"
      },
      "outputs": [
        {
          "data": {
            "text/html": [
              "<table class=\"dataframe\">\n",
              "<caption>A data.frame: 1 × 3</caption>\n",
              "<thead>\n",
              "\t<tr><th scope=col>date_block_num</th><th scope=col>mean_price</th><th scope=col>median_price</th></tr>\n",
              "\t<tr><th scope=col>&lt;int&gt;</th><th scope=col>&lt;dbl&gt;</th><th scope=col>&lt;dbl&gt;</th></tr>\n",
              "</thead>\n",
              "<tbody>\n",
              "\t<tr><td>18</td><td>129</td><td>129</td></tr>\n",
              "</tbody>\n",
              "</table>\n"
            ],
            "text/latex": "A data.frame: 1 × 3\n\\begin{tabular}{lll}\n date\\_block\\_num & mean\\_price & median\\_price\\\\\n <int> & <dbl> & <dbl>\\\\\n\\hline\n\t 18 & 129 & 129\\\\\n\\end{tabular}\n",
            "text/markdown": "\nA data.frame: 1 × 3\n\n| date_block_num &lt;int&gt; | mean_price &lt;dbl&gt; | median_price &lt;dbl&gt; |\n|---|---|---|\n| 18 | 129 | 129 |\n\n",
            "text/plain": [
              "  date_block_num mean_price median_price\n",
              "1 18             129        129         "
            ]
          },
          "metadata": {},
          "output_type": "display_data"
        }
      ],
      "source": [
        "#пункт 1 категория 51\n",
        "library(dplyr)\n",
        "sales_train<-read.csv(\"sales_train.csv\", header = TRUE)\n",
        "items<-read.csv(\"items.csv\", header = TRUE)\n",
        "item_categories<-read.csv(\"item_categories.csv\", header = TRUE)\n",
        "\n",
        "table<-merge(x=sales_train,y=items,all.x=TRUE)\n",
        "table<-filter(sales_train_1,category_id==51)\n",
        "\n",
        "table_mean<-aggregate(table$item_price, by=list(table$date_block_num), FUN=mean)\n",
        "colnames(table_mean) <- c(\"date_block_num\",\"mean_price\")\n",
        "\n",
        "table_median<-aggregate(table$item_price, by=list(table$date_block_num), FUN=median)\n",
        "colnames(table_median) <- c(\"date_block_num\",\"median_price\")\n",
        "\n",
        "table<-merge(x=table_mean, y=table_median,by=c(\"date_block_num\"))\n",
        "table"
      ]
    },
    {
      "cell_type": "code",
      "execution_count": null,
      "metadata": {
        "id": "voCJa1CWaEAg"
      },
      "outputs": [],
      "source": [
        "#пункт 2\n",
        "library(dplyr)\n",
        "sales_train<-read.csv(\"sales_train.csv\", header = TRUE)\n",
        "items<-read.csv(\"items.csv\", header = TRUE)\n",
        "\n",
        "df<-merge(x=sales_train,y=items,all.x=TRUE)\n",
        "df<-filter(df,category_id==40)\n",
        "\n",
        "#разделим записи по годам\n",
        "df<-df %>% mutate (y2013=if_else(date_block_num <= 11,1,0))\n",
        "df_2013<-df[df$y2013==1,]\n",
        "df_2013<-df_2013[c(\"date_block_num\",\"item_id\",\"item_price\",\"category_id\")]\n",
        "\n",
        "\n",
        "df<-df %>% mutate (y2014=if_else(date_block_num >= 12 & date_block_num<=23,1,0))\n",
        "df_2014<-df[df$y2014==1,]\n",
        "df_2014<-df_2014[c(\"date_block_num\",\"item_id\",\"item_price\",\"category_id\")]\n",
        "\n",
        "\n",
        "df<-df %>% mutate (y2015=if_else(date_block_num >= 24 & date_block_num<=33,1,0))\n",
        "df_2015<-df[df$y2015==1,]\n",
        "df_2015<-df_2015[c(\"date_block_num\",\"item_id\",\"item_price\",\"category_id\")]\n",
        "\n",
        "\n",
        "\n"
      ]
    },
    {
      "cell_type": "code",
      "execution_count": null,
      "metadata": {
        "colab": {
          "base_uri": "https://localhost:8080/"
        },
        "id": "FbzQTkYOwpRQ",
        "outputId": "e5729446-c8db-498a-cca7-c2ff48ba8eb5"
      },
      "outputs": [
        {
          "output_type": "stream",
          "name": "stdout",
          "text": [
            "[1] 7\n"
          ]
        }
      ],
      "source": [
        "#рассмотрим 2013 год\n",
        "\n",
        "df_2013_1<-aggregate(df_2013$item_price, by=list(df_2013$date_block_num), FUN=mean)\n",
        "colnames(df_2013_1) <- c(\"date_block_num\",\"item_price_mean\")\n",
        "\n",
        "for(i in 2:length(df_2013_1$item_price_mean)){df_2013_1$test[i]=ifelse(df_2013_1$item_price_mean[i] < df_2013_1$item_price_mean[i-1] & df_2013_1$item_price_mean[i] < df_2013_1$item_price_mean[i+1], print(df_2013_1$date_block_num[i]),NaN)}\n",
        "\n"
      ]
    },
    {
      "cell_type": "code",
      "execution_count": null,
      "metadata": {
        "id": "bhOOcdeywths",
        "colab": {
          "base_uri": "https://localhost:8080/"
        },
        "outputId": "a630284b-1d02-4e8c-e5b6-e7907a08940d"
      },
      "outputs": [
        {
          "output_type": "stream",
          "name": "stdout",
          "text": [
            "[1] 16\n",
            "[1] 21\n"
          ]
        }
      ],
      "source": [
        "#рассмотрим 2014 год\n",
        "\n",
        "df_2014_1<-aggregate(df_2014$item_price, by=list(df_2014$date_block_num), FUN=mean)\n",
        "colnames(df_2014_1) <- c(\"date_block_num\",\"item_price_mean\")\n",
        "\n",
        "for(i in 2:length(df_2014_1$item_price_mean)){df_2014_1$test[i]=ifelse(df_2014_1$item_price_mean[i] < df_2014_1$item_price_mean[i-1] & df_2014_1$item_price_mean[i] < df_2014_1$item_price_mean[i+1], print(df_2014_1$date_block_num[i]),NaN)}"
      ]
    },
    {
      "cell_type": "code",
      "execution_count": null,
      "metadata": {
        "id": "7ThbIunjwtm3",
        "colab": {
          "base_uri": "https://localhost:8080/"
        },
        "outputId": "4538823e-5b6b-4de8-de6c-23016b690adf"
      },
      "outputs": [
        {
          "output_type": "stream",
          "name": "stdout",
          "text": [
            "[1] 25\n",
            "[1] 31\n"
          ]
        }
      ],
      "source": [
        "#рассмотрим 2015 год\n",
        "\n",
        "df_2015_1<-aggregate(df_2015$item_price, by=list(df_2015$date_block_num), FUN=mean)\n",
        "colnames(df_2015_1) <- c(\"date_block_num\",\"item_price_mean\")\n",
        "\n",
        "for(i in 2:length(df_2015_1$item_price_mean)){df_2015_1$test[i]=ifelse(df_2015_1$item_price_mean[i] < df_2015_1$item_price_mean[i-1] & df_2015_1$item_price_mean[i] < df_2015_1$item_price_mean[i+1], print(df_2015_1$date_block_num[i]),NaN)}"
      ]
    }
  ],
  "metadata": {
    "colab": {
      "collapsed_sections": [
        "X5oEdrHBJ9t8",
        "a99rnQRwKLLR"
      ],
      "provenance": []
    },
    "kernelspec": {
      "display_name": "R",
      "name": "ir"
    },
    "language_info": {
      "name": "R"
    }
  },
  "nbformat": 4,
  "nbformat_minor": 0
}